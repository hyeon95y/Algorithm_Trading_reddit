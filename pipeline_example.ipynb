{
 "cells": [
  {
   "cell_type": "code",
   "execution_count": 1,
   "metadata": {},
   "outputs": [],
   "source": [
    "%matplotlib inline\n",
    "%load_ext autoreload\n",
    "%autoreload 2"
   ]
  },
  {
   "cell_type": "markdown",
   "metadata": {},
   "source": [
    "# References\n",
    "\n",
    "- [SKTBrain/KoBERT](https://github.com/SKTBrain/KoBERT)\n",
    "- [eagle705/pytorch-bert-crf-ner](https://github.com/eagle705/pytorch-bert-crf-ner/blob/master/Visualization_BERT_NER.ipynb)\n",
    "- [BERT to the rescue!](https://towardsdatascience.com/bert-to-the-rescue-17671379687f)\n",
    "- [eagle705/pytorch-bert-crf-ner](https://github.com/eagle705/pytorch-bert-crf-ner/blob/master/data_utils/vocab_tokenizer.py)\n",
    "- [pytorch-pretrained-bert](https://pypi.org/project/pytorch-pretrained-bert/#usage)"
   ]
  },
  {
   "cell_type": "markdown",
   "metadata": {},
   "source": [
    "# Load pre-trained model"
   ]
  },
  {
   "cell_type": "code",
   "execution_count": 2,
   "metadata": {},
   "outputs": [],
   "source": [
    "import io\n",
    "import time\n",
    "\n",
    "import pandas as pd\n",
    "import numpy as np\n",
    "\n",
    "import tqdm\n",
    "import multiprocessing\n",
    "import matplotlib.pyplot as plt\n",
    "import matplotlib.font_manager as font_manager\n",
    "font_dirs = ['/usr/share/fonts/truetype/nanum']\n",
    "font_files = font_manager.findSystemFonts(fontpaths=font_dirs)\n",
    "font_list = font_manager.createFontList(font_files)\n",
    "font_manager.fontManager.ttflist.extend(font_list)\n",
    "plt.rcParams['font.family'] = 'NanumGothic'\n",
    "\n",
    "num_of_cores = 8"
   ]
  },
  {
   "cell_type": "code",
   "execution_count": 3,
   "metadata": {},
   "outputs": [
    {
     "name": "stderr",
     "output_type": "stream",
     "text": [
      "Using TensorFlow backend.\n",
      "/usr/local/lib/python3.6/dist-packages/tensorflow/python/framework/dtypes.py:516: FutureWarning: Passing (type, 1) or '1type' as a synonym of type is deprecated; in a future version of numpy, it will be understood as (type, (1,)) / '(1,)type'.\n",
      "  _np_qint8 = np.dtype([(\"qint8\", np.int8, 1)])\n",
      "/usr/local/lib/python3.6/dist-packages/tensorflow/python/framework/dtypes.py:517: FutureWarning: Passing (type, 1) or '1type' as a synonym of type is deprecated; in a future version of numpy, it will be understood as (type, (1,)) / '(1,)type'.\n",
      "  _np_quint8 = np.dtype([(\"quint8\", np.uint8, 1)])\n",
      "/usr/local/lib/python3.6/dist-packages/tensorflow/python/framework/dtypes.py:518: FutureWarning: Passing (type, 1) or '1type' as a synonym of type is deprecated; in a future version of numpy, it will be understood as (type, (1,)) / '(1,)type'.\n",
      "  _np_qint16 = np.dtype([(\"qint16\", np.int16, 1)])\n",
      "/usr/local/lib/python3.6/dist-packages/tensorflow/python/framework/dtypes.py:519: FutureWarning: Passing (type, 1) or '1type' as a synonym of type is deprecated; in a future version of numpy, it will be understood as (type, (1,)) / '(1,)type'.\n",
      "  _np_quint16 = np.dtype([(\"quint16\", np.uint16, 1)])\n",
      "/usr/local/lib/python3.6/dist-packages/tensorflow/python/framework/dtypes.py:520: FutureWarning: Passing (type, 1) or '1type' as a synonym of type is deprecated; in a future version of numpy, it will be understood as (type, (1,)) / '(1,)type'.\n",
      "  _np_qint32 = np.dtype([(\"qint32\", np.int32, 1)])\n",
      "/usr/local/lib/python3.6/dist-packages/tensorflow/python/framework/dtypes.py:525: FutureWarning: Passing (type, 1) or '1type' as a synonym of type is deprecated; in a future version of numpy, it will be understood as (type, (1,)) / '(1,)type'.\n",
      "  np_resource = np.dtype([(\"resource\", np.ubyte, 1)])\n",
      "/usr/local/lib/python3.6/dist-packages/tensorboard/compat/tensorflow_stub/dtypes.py:541: FutureWarning: Passing (type, 1) or '1type' as a synonym of type is deprecated; in a future version of numpy, it will be understood as (type, (1,)) / '(1,)type'.\n",
      "  _np_qint8 = np.dtype([(\"qint8\", np.int8, 1)])\n",
      "/usr/local/lib/python3.6/dist-packages/tensorboard/compat/tensorflow_stub/dtypes.py:542: FutureWarning: Passing (type, 1) or '1type' as a synonym of type is deprecated; in a future version of numpy, it will be understood as (type, (1,)) / '(1,)type'.\n",
      "  _np_quint8 = np.dtype([(\"quint8\", np.uint8, 1)])\n",
      "/usr/local/lib/python3.6/dist-packages/tensorboard/compat/tensorflow_stub/dtypes.py:543: FutureWarning: Passing (type, 1) or '1type' as a synonym of type is deprecated; in a future version of numpy, it will be understood as (type, (1,)) / '(1,)type'.\n",
      "  _np_qint16 = np.dtype([(\"qint16\", np.int16, 1)])\n",
      "/usr/local/lib/python3.6/dist-packages/tensorboard/compat/tensorflow_stub/dtypes.py:544: FutureWarning: Passing (type, 1) or '1type' as a synonym of type is deprecated; in a future version of numpy, it will be understood as (type, (1,)) / '(1,)type'.\n",
      "  _np_quint16 = np.dtype([(\"quint16\", np.uint16, 1)])\n",
      "/usr/local/lib/python3.6/dist-packages/tensorboard/compat/tensorflow_stub/dtypes.py:545: FutureWarning: Passing (type, 1) or '1type' as a synonym of type is deprecated; in a future version of numpy, it will be understood as (type, (1,)) / '(1,)type'.\n",
      "  _np_qint32 = np.dtype([(\"qint32\", np.int32, 1)])\n",
      "/usr/local/lib/python3.6/dist-packages/tensorboard/compat/tensorflow_stub/dtypes.py:550: FutureWarning: Passing (type, 1) or '1type' as a synonym of type is deprecated; in a future version of numpy, it will be understood as (type, (1,)) / '(1,)type'.\n",
      "  np_resource = np.dtype([(\"resource\", np.ubyte, 1)])\n"
     ]
    },
    {
     "name": "stdout",
     "output_type": "stream",
     "text": [
      "using cached model\n",
      "using cached model\n"
     ]
    }
   ],
   "source": [
    "import torch\n",
    "import torch.nn as nn\n",
    "from kobert.pytorch_kobert import get_pytorch_kobert_model\n",
    "from gluonnlp.data import SentencepieceTokenizer\n",
    "from kobert.utils import get_tokenizer\n",
    "from keras.preprocessing.sequence import pad_sequences\n",
    "import sentencepiece as spm\n",
    "\n",
    "device = torch.device('cuda' if torch.cuda.is_available() else 'cpu')\n",
    "pretrained_bert, vocab = get_pytorch_kobert_model()\n",
    "del pretrained_bert"
   ]
  },
  {
   "cell_type": "code",
   "execution_count": 4,
   "metadata": {},
   "outputs": [
    {
     "name": "stdout",
     "output_type": "stream",
     "text": [
      "using cached model\n",
      "/root/kobert/tokenizer_78b3253a26.model\n",
      "<sentencepiece.SentencePieceProcessor; proxy of <Swig Object of type 'sentencepiece::SentencePieceProcessor *' at 0x7fb90c1297e0> >\n"
     ]
    },
    {
     "data": {
      "text/plain": [
       "True"
      ]
     },
     "execution_count": 4,
     "metadata": {},
     "output_type": "execute_result"
    }
   ],
   "source": [
    "# Load pre-trained model tokenizer\n",
    "tok_path = get_tokenizer()\n",
    "print(tok_path)\n",
    "sp = spm.SentencePieceProcessor()\n",
    "print(sp)\n",
    "sp.Load(tok_path)"
   ]
  },
  {
   "cell_type": "code",
   "execution_count": 5,
   "metadata": {},
   "outputs": [
    {
     "name": "stdout",
     "output_type": "stream",
     "text": [
      "누가 기침소리를 내었는가 ? 누구인가 ?\n",
      "['[CLS]', '▁누가', '▁기', '침', '소리', '를', '▁내', '었', '는', '가', '▁?', '▁누구', '인', '가', '▁?', '[SEP]']\n",
      "[   2 1527 1258 7491 6609 6116 1434 6885 5760 5330  633 1528 7119 5330\n",
      "  633    3    0    0    0    0]\n"
     ]
    }
   ],
   "source": [
    "# Tokenized input\n",
    "text = [\"누가 기침소리를 내었는가 ? 누구인가 ?\"]\n",
    "train_tokens = list(map(lambda t: ['[CLS]'] + sp.EncodeAsPieces(t) + ['[SEP]'], text))\n",
    "\n",
    "print(text[0])\n",
    "print(train_tokens[0])\n",
    "\n",
    "train_tokens_ids = pad_sequences(list(map(vocab.to_indices, train_tokens)), maxlen=512, truncating=\"post\", padding=\"post\", dtype=\"int\")\n",
    "print(train_tokens_ids[0][:20])"
   ]
  },
  {
   "cell_type": "markdown",
   "metadata": {},
   "source": [
    "# Load Data"
   ]
  },
  {
   "cell_type": "code",
   "execution_count": 64,
   "metadata": {},
   "outputs": [
    {
     "name": "stderr",
     "output_type": "stream",
     "text": [
      "  0%|          | 0/3429 [00:00<?, ?it/s]/usr/local/lib/python3.6/dist-packages/pandas/core/indexing.py:205: SettingWithCopyWarning: \n",
      "A value is trying to be set on a copy of a slice from a DataFrame\n",
      "\n",
      "See the caveats in the documentation: http://pandas.pydata.org/pandas-docs/stable/user_guide/indexing.html#returning-a-view-versus-a-copy\n",
      "  self._setitem_with_indexer(indexer, value)\n",
      "  7%|▋         | 238/3429 [00:00<00:02, 1187.14it/s]"
     ]
    },
    {
     "name": "stdout",
     "output_type": "stream",
     "text": [
      "(3429, 7)\n"
     ]
    },
    {
     "name": "stderr",
     "output_type": "stream",
     "text": [
      "100%|██████████| 3429/3429 [00:03<00:00, 889.50it/s] \n"
     ]
    },
    {
     "data": {
      "text/html": [
       "<div>\n",
       "<style scoped>\n",
       "    .dataframe tbody tr th:only-of-type {\n",
       "        vertical-align: middle;\n",
       "    }\n",
       "\n",
       "    .dataframe tbody tr th {\n",
       "        vertical-align: top;\n",
       "    }\n",
       "\n",
       "    .dataframe thead th {\n",
       "        text-align: right;\n",
       "    }\n",
       "</style>\n",
       "<table border=\"1\" class=\"dataframe\">\n",
       "  <thead>\n",
       "    <tr style=\"text-align: right;\">\n",
       "      <th></th>\n",
       "      <th>close</th>\n",
       "      <th>high</th>\n",
       "      <th>low</th>\n",
       "      <th>open</th>\n",
       "      <th>vol</th>\n",
       "    </tr>\n",
       "    <tr>\n",
       "      <th>time</th>\n",
       "      <th></th>\n",
       "      <th></th>\n",
       "      <th></th>\n",
       "      <th></th>\n",
       "      <th></th>\n",
       "    </tr>\n",
       "  </thead>\n",
       "  <tbody>\n",
       "    <tr>\n",
       "      <td>2019-10-31 09:01:00</td>\n",
       "      <td>50900</td>\n",
       "      <td>51100</td>\n",
       "      <td>50900</td>\n",
       "      <td>51000</td>\n",
       "      <td>580976</td>\n",
       "    </tr>\n",
       "    <tr>\n",
       "      <td>2019-10-31 09:02:00</td>\n",
       "      <td>51100</td>\n",
       "      <td>51100</td>\n",
       "      <td>50900</td>\n",
       "      <td>50900</td>\n",
       "      <td>46699</td>\n",
       "    </tr>\n",
       "    <tr>\n",
       "      <td>2019-10-31 09:03:00</td>\n",
       "      <td>51100</td>\n",
       "      <td>51100</td>\n",
       "      <td>51000</td>\n",
       "      <td>51100</td>\n",
       "      <td>13198</td>\n",
       "    </tr>\n",
       "    <tr>\n",
       "      <td>2019-10-31 09:04:00</td>\n",
       "      <td>51000</td>\n",
       "      <td>51100</td>\n",
       "      <td>51000</td>\n",
       "      <td>51100</td>\n",
       "      <td>37929</td>\n",
       "    </tr>\n",
       "    <tr>\n",
       "      <td>2019-10-31 09:05:00</td>\n",
       "      <td>51000</td>\n",
       "      <td>51100</td>\n",
       "      <td>50900</td>\n",
       "      <td>51000</td>\n",
       "      <td>83816</td>\n",
       "    </tr>\n",
       "    <tr>\n",
       "      <td>...</td>\n",
       "      <td>...</td>\n",
       "      <td>...</td>\n",
       "      <td>...</td>\n",
       "      <td>...</td>\n",
       "      <td>...</td>\n",
       "    </tr>\n",
       "    <tr>\n",
       "      <td>2019-11-12 15:17:00</td>\n",
       "      <td>52400</td>\n",
       "      <td>52500</td>\n",
       "      <td>52400</td>\n",
       "      <td>52500</td>\n",
       "      <td>12420</td>\n",
       "    </tr>\n",
       "    <tr>\n",
       "      <td>2019-11-12 15:18:00</td>\n",
       "      <td>52500</td>\n",
       "      <td>52500</td>\n",
       "      <td>52400</td>\n",
       "      <td>52400</td>\n",
       "      <td>20269</td>\n",
       "    </tr>\n",
       "    <tr>\n",
       "      <td>2019-11-12 15:19:00</td>\n",
       "      <td>52500</td>\n",
       "      <td>52500</td>\n",
       "      <td>52400</td>\n",
       "      <td>52500</td>\n",
       "      <td>18480</td>\n",
       "    </tr>\n",
       "    <tr>\n",
       "      <td>2019-11-12 15:20:00</td>\n",
       "      <td>52500</td>\n",
       "      <td>52500</td>\n",
       "      <td>52400</td>\n",
       "      <td>52500</td>\n",
       "      <td>47526</td>\n",
       "    </tr>\n",
       "    <tr>\n",
       "      <td>2019-11-12 15:30:00</td>\n",
       "      <td>52600</td>\n",
       "      <td>52600</td>\n",
       "      <td>52600</td>\n",
       "      <td>52600</td>\n",
       "      <td>832746</td>\n",
       "    </tr>\n",
       "  </tbody>\n",
       "</table>\n",
       "<p>3429 rows × 5 columns</p>\n",
       "</div>"
      ],
      "text/plain": [
       "                     close   high    low   open     vol\n",
       "time                                                   \n",
       "2019-10-31 09:01:00  50900  51100  50900  51000  580976\n",
       "2019-10-31 09:02:00  51100  51100  50900  50900   46699\n",
       "2019-10-31 09:03:00  51100  51100  51000  51100   13198\n",
       "2019-10-31 09:04:00  51000  51100  51000  51100   37929\n",
       "2019-10-31 09:05:00  51000  51100  50900  51000   83816\n",
       "...                    ...    ...    ...    ...     ...\n",
       "2019-11-12 15:17:00  52400  52500  52400  52500   12420\n",
       "2019-11-12 15:18:00  52500  52500  52400  52400   20269\n",
       "2019-11-12 15:19:00  52500  52500  52400  52500   18480\n",
       "2019-11-12 15:20:00  52500  52500  52400  52500   47526\n",
       "2019-11-12 15:30:00  52600  52600  52600  52600  832746\n",
       "\n",
       "[3429 rows x 5 columns]"
      ]
     },
     "metadata": {},
     "output_type": "display_data"
    }
   ],
   "source": [
    "# Load and preprocess\n",
    "def load_price(filename) : \n",
    "    price = pd.read_csv(filename, index_col=0)\n",
    "    print(price.shape)\n",
    "    '''\n",
    "    # convert timestamp of price dataframe as datetime object\n",
    "    pool = multiprocessing.pool.ThreadPool(num_of_cores)\n",
    "    args = list(range(price.shape[0]))\n",
    "    def price_to_datetime(i) : \n",
    "        price['time'].iloc[i] = pd.to_datetime(str(price['date'].iloc[i])+str(price['time'].iloc[i]), format='%Y%m%d%H%M')\n",
    "        pbar.update(1)\n",
    "        return\n",
    "    with tqdm.tqdm(total=len(args)) as pbar:\n",
    "        for i in range(len(args)):\n",
    "            pool.apply_async(price_to_datetime, [args[i]])\n",
    "        pool.close()\n",
    "        pool.join()       \n",
    "    '''\n",
    "    # convert timestamp of price dataframe as datetime object\n",
    "    with tqdm.tqdm(total=price.shape[0]) as pbar :\n",
    "        for i in range(price.shape[0]) : \n",
    "            price['time'].iloc[i] = pd.to_datetime(str(price['date'].iloc[i])+str(price['time'].iloc[i]), format='%Y%m%d%H%M')\n",
    "            pbar.update(1)   \n",
    "    # sort in ascending order\n",
    "    price = price.sort_values(by='time').reset_index(drop=True)\n",
    "    price.index = price['time']\n",
    "    price = price.drop(['date', 'time'], axis=1)\n",
    "    return price\n",
    "\n",
    "filename = 'data/example/price_005930.csv'\n",
    "price = load_price(filename)\n",
    "display(price)"
   ]
  },
  {
   "cell_type": "code",
   "execution_count": 65,
   "metadata": {},
   "outputs": [
    {
     "name": "stderr",
     "output_type": "stream",
     "text": [
      "  1%|          | 152/20129 [00:00<00:26, 753.98it/s]"
     ]
    },
    {
     "name": "stdout",
     "output_type": "stream",
     "text": [
      "(20129, 7)\n"
     ]
    },
    {
     "name": "stderr",
     "output_type": "stream",
     "text": [
      "100%|██████████| 20129/20129 [00:27<00:00, 720.71it/s]\n"
     ]
    }
   ],
   "source": [
    "# Load and preprocess\n",
    "def load_reply(filename) : \n",
    "    reply = pd.read_csv(filename, index_col=0).reset_index(drop=True)\n",
    "    print(reply.shape)\n",
    "    # wrong data in the dataframe\n",
    "    #display(pd.DataFrame(reply.iloc[209]).T)\n",
    "    #display(pd.DataFrame(reply.iloc[210]).T)\n",
    "    '''\n",
    "    # convert timestamp of reply dataframe as datetime object, drop wrong rows\n",
    "    list_to_drop = []\n",
    "    pool = multiprocessing.pool.ThreadPool(num_of_cores)\n",
    "    args = list(range(reply.shape[0]))\n",
    "    def reply_to_datetime(i) : \n",
    "        try : \n",
    "            reply['Date'].iloc[i] = pd.to_datetime(reply['Date'].iloc[i], format='%Y.%m.%d %H:%M')\n",
    "            pbar.update(1)\n",
    "        except Exception as e :\n",
    "            list_to_drop.append(i)\n",
    "            pbar.update(1)\n",
    "        return\n",
    "    with tqdm.tqdm(total=len(args)) as pbar:\n",
    "        for i in range(len(args)):\n",
    "            pool.apply_async(reply_to_datetime, [args[i]])\n",
    "        pool.close()\n",
    "        pool.join() \n",
    "    '''\n",
    "    # convert timestamp of reply dataframe as datetime object, drop wrong rows\n",
    "    list_to_drop = []\n",
    "    with tqdm.tqdm(total=reply.shape[0]) as pbar : \n",
    "        for i in range(reply.shape[0]) : \n",
    "            try : \n",
    "                reply['Date'].iloc[i] = pd.to_datetime(reply['Date'].iloc[i], format='%Y.%m.%d %H:%M')\n",
    "                pbar.update(1)\n",
    "            except Exception as e :\n",
    "                list_to_drop.append(i)\n",
    "                pbar.update(1)\n",
    "    reply = reply.drop(list_to_drop, axis=0)\n",
    "\n",
    "    # sort in ascending order\n",
    "    reply = reply.sort_values(by='Date').reset_index(drop=True)\n",
    "    reply.index = reply['Date']\n",
    "    reply = reply.drop(['Date'], axis=1)\n",
    "\n",
    "    return reply\n",
    "\n",
    "filename = 'data/example/reply_005930.csv'\n",
    "reply = load_reply(filename)"
   ]
  },
  {
   "cell_type": "markdown",
   "metadata": {},
   "source": [
    "# Merge Dataset"
   ]
  },
  {
   "cell_type": "code",
   "execution_count": 66,
   "metadata": {},
   "outputs": [
    {
     "name": "stdout",
     "output_type": "stream",
     "text": [
      "2019-10-31 09:01:00\n",
      "2019-11-12 15:30:00\n"
     ]
    },
    {
     "data": {
      "text/html": [
       "<div>\n",
       "<style scoped>\n",
       "    .dataframe tbody tr th:only-of-type {\n",
       "        vertical-align: middle;\n",
       "    }\n",
       "\n",
       "    .dataframe tbody tr th {\n",
       "        vertical-align: top;\n",
       "    }\n",
       "\n",
       "    .dataframe thead th {\n",
       "        text-align: right;\n",
       "    }\n",
       "</style>\n",
       "<table border=\"1\" class=\"dataframe\">\n",
       "  <thead>\n",
       "    <tr style=\"text-align: right;\">\n",
       "      <th></th>\n",
       "      <th>close</th>\n",
       "      <th>high</th>\n",
       "      <th>low</th>\n",
       "      <th>open</th>\n",
       "      <th>vol</th>\n",
       "      <th>Views</th>\n",
       "      <th>Title</th>\n",
       "      <th>Content</th>\n",
       "      <th>Like</th>\n",
       "      <th>Unlike</th>\n",
       "      <th>Ip</th>\n",
       "    </tr>\n",
       "    <tr>\n",
       "      <th>key_0</th>\n",
       "      <th></th>\n",
       "      <th></th>\n",
       "      <th></th>\n",
       "      <th></th>\n",
       "      <th></th>\n",
       "      <th></th>\n",
       "      <th></th>\n",
       "      <th></th>\n",
       "      <th></th>\n",
       "      <th></th>\n",
       "      <th></th>\n",
       "    </tr>\n",
       "  </thead>\n",
       "  <tbody>\n",
       "    <tr>\n",
       "      <td>2019-10-31 09:01:00</td>\n",
       "      <td>50900.0</td>\n",
       "      <td>51100.0</td>\n",
       "      <td>50900.0</td>\n",
       "      <td>51000.0</td>\n",
       "      <td>580976.0</td>\n",
       "      <td>192.0</td>\n",
       "      <td>계엄령 문건 덮었다는 '윤석열 직인'···알고보니 자동 출력</td>\n",
       "      <td>\\r\\n이젠 호모쉐퀴들도 부역자 노릇을 하는구나\\r\\r\\n \\r\\n군대도 안다녀온...</td>\n",
       "      <td>6.0</td>\n",
       "      <td>4.0</td>\n",
       "      <td>125.178.***.115</td>\n",
       "    </tr>\n",
       "    <tr>\n",
       "      <td>2019-10-31 09:01:00</td>\n",
       "      <td>50900.0</td>\n",
       "      <td>51100.0</td>\n",
       "      <td>50900.0</td>\n",
       "      <td>51000.0</td>\n",
       "      <td>580976.0</td>\n",
       "      <td>544.0</td>\n",
       "      <td>오늘 실적발표 일...</td>\n",
       "      <td>자료는 공개되었네요\\r\\r\\n못보신 분들은 확인하세요\\r\\r\\n \\r\\nhttps:...</td>\n",
       "      <td>0.0</td>\n",
       "      <td>0.0</td>\n",
       "      <td>112.216.***.242</td>\n",
       "    </tr>\n",
       "    <tr>\n",
       "      <td>2019-10-31 09:02:00</td>\n",
       "      <td>51100.0</td>\n",
       "      <td>51100.0</td>\n",
       "      <td>50900.0</td>\n",
       "      <td>50900.0</td>\n",
       "      <td>46699.0</td>\n",
       "      <td>NaN</td>\n",
       "      <td>NaN</td>\n",
       "      <td>NaN</td>\n",
       "      <td>NaN</td>\n",
       "      <td>NaN</td>\n",
       "      <td>NaN</td>\n",
       "    </tr>\n",
       "    <tr>\n",
       "      <td>2019-10-31 09:03:00</td>\n",
       "      <td>51100.0</td>\n",
       "      <td>51100.0</td>\n",
       "      <td>51000.0</td>\n",
       "      <td>51100.0</td>\n",
       "      <td>13198.0</td>\n",
       "      <td>135.0</td>\n",
       "      <td>지금은 `폴더블폰` 시대…화면 확장 한계 넘는다ㅋ</td>\n",
       "      <td>ㅋㅋ</td>\n",
       "      <td>0.0</td>\n",
       "      <td>0.0</td>\n",
       "      <td>223.62.***.176</td>\n",
       "    </tr>\n",
       "    <tr>\n",
       "      <td>2019-10-31 09:04:00</td>\n",
       "      <td>51000.0</td>\n",
       "      <td>51100.0</td>\n",
       "      <td>51000.0</td>\n",
       "      <td>51100.0</td>\n",
       "      <td>37929.0</td>\n",
       "      <td>148.0</td>\n",
       "      <td>삼성, 새로운 폴더블폰 공개…'갤럭시 폴드는 시작일 뿐'ㅋ</td>\n",
       "      <td>ㅋㅋ</td>\n",
       "      <td>0.0</td>\n",
       "      <td>0.0</td>\n",
       "      <td>223.62.***.176</td>\n",
       "    </tr>\n",
       "    <tr>\n",
       "      <td>...</td>\n",
       "      <td>...</td>\n",
       "      <td>...</td>\n",
       "      <td>...</td>\n",
       "      <td>...</td>\n",
       "      <td>...</td>\n",
       "      <td>...</td>\n",
       "      <td>...</td>\n",
       "      <td>...</td>\n",
       "      <td>...</td>\n",
       "      <td>...</td>\n",
       "      <td>...</td>\n",
       "    </tr>\n",
       "    <tr>\n",
       "      <td>2019-11-12 08:52:00</td>\n",
       "      <td>NaN</td>\n",
       "      <td>NaN</td>\n",
       "      <td>NaN</td>\n",
       "      <td>NaN</td>\n",
       "      <td>NaN</td>\n",
       "      <td>125.0</td>\n",
       "      <td>소통·공감 밝힌 文대통령… '반성'은 없었다</td>\n",
       "      <td>\\r\\n임기 후반 첫 수보회의 주재/ “국민들 확실한 변화 체감 때까지/ 일관성 ...</td>\n",
       "      <td>2.0</td>\n",
       "      <td>4.0</td>\n",
       "      <td>125.178.***.115</td>\n",
       "    </tr>\n",
       "    <tr>\n",
       "      <td>2019-11-12 08:56:00</td>\n",
       "      <td>NaN</td>\n",
       "      <td>NaN</td>\n",
       "      <td>NaN</td>\n",
       "      <td>NaN</td>\n",
       "      <td>NaN</td>\n",
       "      <td>203.0</td>\n",
       "      <td>3Q 영업익 7조7800억…전년比 55.74% 감소 ㅋㅋ</td>\n",
       "      <td>3Q 영업익 7조7800억…전년比 55.74% 감소 ㅋㅋ\\r\\r\\n \\r\\n하한가 ...</td>\n",
       "      <td>2.0</td>\n",
       "      <td>0.0</td>\n",
       "      <td>119.64.***.165</td>\n",
       "    </tr>\n",
       "    <tr>\n",
       "      <td>2019-11-12 08:57:00</td>\n",
       "      <td>NaN</td>\n",
       "      <td>NaN</td>\n",
       "      <td>NaN</td>\n",
       "      <td>NaN</td>\n",
       "      <td>NaN</td>\n",
       "      <td>149.0</td>\n",
       "      <td>히틀러보다 더 나쁜놈..</td>\n",
       "      <td>https://www.youtube.com/watch?v=Am5iwgX1mJw</td>\n",
       "      <td>0.0</td>\n",
       "      <td>1.0</td>\n",
       "      <td>125.143.***.181</td>\n",
       "    </tr>\n",
       "    <tr>\n",
       "      <td>2019-11-12 08:57:00</td>\n",
       "      <td>NaN</td>\n",
       "      <td>NaN</td>\n",
       "      <td>NaN</td>\n",
       "      <td>NaN</td>\n",
       "      <td>NaN</td>\n",
       "      <td>120.0</td>\n",
       "      <td>내가 본 세상</td>\n",
       "      <td>조국가족을 보면서 공정을 보았고.하늘에.날아디니는 러시아비행기를 보면서 안보를 보았...</td>\n",
       "      <td>NaN</td>\n",
       "      <td>NaN</td>\n",
       "      <td>NaN</td>\n",
       "    </tr>\n",
       "    <tr>\n",
       "      <td>2019-11-12 08:59:00</td>\n",
       "      <td>NaN</td>\n",
       "      <td>NaN</td>\n",
       "      <td>NaN</td>\n",
       "      <td>NaN</td>\n",
       "      <td>NaN</td>\n",
       "      <td>111.0</td>\n",
       "      <td>천사들이 자유를 보장하신다..</td>\n",
       "      <td>문재인 천사 임종석천사 김정은 천사여 왜 날개를 숨기고 사시나요~~/ 오 천사여 기...</td>\n",
       "      <td>1.0</td>\n",
       "      <td>2.0</td>\n",
       "      <td>106.101.***.15</td>\n",
       "    </tr>\n",
       "  </tbody>\n",
       "</table>\n",
       "<p>8150 rows × 11 columns</p>\n",
       "</div>"
      ],
      "text/plain": [
       "                       close     high      low     open       vol  Views  \\\n",
       "key_0                                                                      \n",
       "2019-10-31 09:01:00  50900.0  51100.0  50900.0  51000.0  580976.0  192.0   \n",
       "2019-10-31 09:01:00  50900.0  51100.0  50900.0  51000.0  580976.0  544.0   \n",
       "2019-10-31 09:02:00  51100.0  51100.0  50900.0  50900.0   46699.0    NaN   \n",
       "2019-10-31 09:03:00  51100.0  51100.0  51000.0  51100.0   13198.0  135.0   \n",
       "2019-10-31 09:04:00  51000.0  51100.0  51000.0  51100.0   37929.0  148.0   \n",
       "...                      ...      ...      ...      ...       ...    ...   \n",
       "2019-11-12 08:52:00      NaN      NaN      NaN      NaN       NaN  125.0   \n",
       "2019-11-12 08:56:00      NaN      NaN      NaN      NaN       NaN  203.0   \n",
       "2019-11-12 08:57:00      NaN      NaN      NaN      NaN       NaN  149.0   \n",
       "2019-11-12 08:57:00      NaN      NaN      NaN      NaN       NaN  120.0   \n",
       "2019-11-12 08:59:00      NaN      NaN      NaN      NaN       NaN  111.0   \n",
       "\n",
       "                                                 Title  \\\n",
       "key_0                                                    \n",
       "2019-10-31 09:01:00  계엄령 문건 덮었다는 '윤석열 직인'···알고보니 자동 출력   \n",
       "2019-10-31 09:01:00                       오늘 실적발표 일...   \n",
       "2019-10-31 09:02:00                                NaN   \n",
       "2019-10-31 09:03:00        지금은 `폴더블폰` 시대…화면 확장 한계 넘는다ㅋ   \n",
       "2019-10-31 09:04:00   삼성, 새로운 폴더블폰 공개…'갤럭시 폴드는 시작일 뿐'ㅋ   \n",
       "...                                                ...   \n",
       "2019-11-12 08:52:00           소통·공감 밝힌 文대통령… '반성'은 없었다   \n",
       "2019-11-12 08:56:00    3Q 영업익 7조7800억…전년比 55.74% 감소 ㅋㅋ   \n",
       "2019-11-12 08:57:00                      히틀러보다 더 나쁜놈..   \n",
       "2019-11-12 08:57:00                            내가 본 세상   \n",
       "2019-11-12 08:59:00                   천사들이 자유를 보장하신다..   \n",
       "\n",
       "                                                               Content  Like  \\\n",
       "key_0                                                                          \n",
       "2019-10-31 09:01:00   \\r\\n이젠 호모쉐퀴들도 부역자 노릇을 하는구나\\r\\r\\n \\r\\n군대도 안다녀온...   6.0   \n",
       "2019-10-31 09:01:00  자료는 공개되었네요\\r\\r\\n못보신 분들은 확인하세요\\r\\r\\n \\r\\nhttps:...   0.0   \n",
       "2019-10-31 09:02:00                                                NaN   NaN   \n",
       "2019-10-31 09:03:00                                                 ㅋㅋ   0.0   \n",
       "2019-10-31 09:04:00                                                 ㅋㅋ   0.0   \n",
       "...                                                                ...   ...   \n",
       "2019-11-12 08:52:00   \\r\\n임기 후반 첫 수보회의 주재/ “국민들 확실한 변화 체감 때까지/ 일관성 ...   2.0   \n",
       "2019-11-12 08:56:00  3Q 영업익 7조7800억…전년比 55.74% 감소 ㅋㅋ\\r\\r\\n \\r\\n하한가 ...   2.0   \n",
       "2019-11-12 08:57:00        https://www.youtube.com/watch?v=Am5iwgX1mJw   0.0   \n",
       "2019-11-12 08:57:00  조국가족을 보면서 공정을 보았고.하늘에.날아디니는 러시아비행기를 보면서 안보를 보았...   NaN   \n",
       "2019-11-12 08:59:00  문재인 천사 임종석천사 김정은 천사여 왜 날개를 숨기고 사시나요~~/ 오 천사여 기...   1.0   \n",
       "\n",
       "                     Unlike               Ip  \n",
       "key_0                                         \n",
       "2019-10-31 09:01:00     4.0  125.178.***.115  \n",
       "2019-10-31 09:01:00     0.0  112.216.***.242  \n",
       "2019-10-31 09:02:00     NaN              NaN  \n",
       "2019-10-31 09:03:00     0.0   223.62.***.176  \n",
       "2019-10-31 09:04:00     0.0   223.62.***.176  \n",
       "...                     ...              ...  \n",
       "2019-11-12 08:52:00     4.0  125.178.***.115  \n",
       "2019-11-12 08:56:00     0.0   119.64.***.165  \n",
       "2019-11-12 08:57:00     1.0  125.143.***.181  \n",
       "2019-11-12 08:57:00     NaN              NaN  \n",
       "2019-11-12 08:59:00     2.0   106.101.***.15  \n",
       "\n",
       "[8150 rows x 11 columns]"
      ]
     },
     "metadata": {},
     "output_type": "display_data"
    },
    {
     "name": "stderr",
     "output_type": "stream",
     "text": [
      "/usr/local/lib/python3.6/dist-packages/pandas/plotting/_matplotlib/converter.py:103: FutureWarning: Using an implicitly registered datetime converter for a matplotlib plotting method. The converter was registered by pandas on import. Future versions of pandas will require you to explicitly register matplotlib converters.\n",
      "\n",
      "To register the converters:\n",
      "\t>>> from pandas.plotting import register_matplotlib_converters\n",
      "\t>>> register_matplotlib_converters()\n",
      "  warnings.warn(msg, FutureWarning)\n"
     ]
    },
    {
     "data": {
      "image/png": "[encoded data removed]",
      "text/plain": [
       "<Figure size 720x288 with 1 Axes>"
      ]
     },
     "metadata": {
      "needs_background": "light"
     },
     "output_type": "display_data"
    }
   ],
   "source": [
    "def merge_dataset(price, reply) : \n",
    "    # get intersection\n",
    "    day_start = max(price.index[0], reply.index[0])\n",
    "    day_end = min(price.index[-1], reply.index[-1])\n",
    "    print(day_start)\n",
    "    print(day_end)\n",
    "\n",
    "    # merge dataframe\n",
    "    reply_common = reply[(reply.index >= day_start) & (reply.index <= day_end)]\n",
    "    price_common = price[(price.index >= day_start) & (price.index <= day_end)]\n",
    "    #df = reply_common.merge(price_common, how='outer', left_on=reply_common.index, right_on=price_common.index)\n",
    "    df = price_common.merge(reply_common, how='outer', left_on=price_common.index, right_on=reply_common.index)\n",
    "    df.index = df['key_0']\n",
    "    df = df.drop(['key_0'], axis=1)\n",
    "    display(df)\n",
    "\n",
    "    # check intersection of timestamp\n",
    "    plt.figure(figsize=(10, 4))\n",
    "    plt.plot(price.index, np.zeros(price.shape[0]), label='price')\n",
    "    plt.plot(reply.index, np.ones(reply.shape[0]), label='reply')\n",
    "    plt.plot(df.index, np.full(df.shape[0], 2), label='merged df')\n",
    "    plt.xticks(rotation=90)\n",
    "    plt.legend()\n",
    "    plt.show()\n",
    "\n",
    "    return df\n",
    "\n",
    "df = merge_dataset(price, reply)"
   ]
  },
  {
   "cell_type": "markdown",
   "metadata": {},
   "source": [
    "# Preprocess Functions"
   ]
  },
  {
   "cell_type": "markdown",
   "metadata": {},
   "source": [
    "### 부탁드릴 내용\n",
    "- 제목 미리보기?\n",
    "    - '오늘 실적발표 일...'\n",
    "    - 페이지에 들어가서 잘리지 않은 제목으로"
   ]
  },
  {
   "cell_type": "code",
   "execution_count": 88,
   "metadata": {},
   "outputs": [],
   "source": [
    "from urlextract import URLExtract\n",
    "import re"
   ]
  },
  {
   "cell_type": "code",
   "execution_count": 89,
   "metadata": {},
   "outputs": [
    {
     "data": {
      "text/html": [
       "<div>\n",
       "<style scoped>\n",
       "    .dataframe tbody tr th:only-of-type {\n",
       "        vertical-align: middle;\n",
       "    }\n",
       "\n",
       "    .dataframe tbody tr th {\n",
       "        vertical-align: top;\n",
       "    }\n",
       "\n",
       "    .dataframe thead th {\n",
       "        text-align: right;\n",
       "    }\n",
       "</style>\n",
       "<table border=\"1\" class=\"dataframe\">\n",
       "  <thead>\n",
       "    <tr style=\"text-align: right;\">\n",
       "      <th></th>\n",
       "      <th>key_0</th>\n",
       "      <th>close</th>\n",
       "      <th>high</th>\n",
       "      <th>low</th>\n",
       "      <th>open</th>\n",
       "      <th>vol</th>\n",
       "      <th>Views</th>\n",
       "      <th>Title</th>\n",
       "      <th>Content</th>\n",
       "      <th>Like</th>\n",
       "      <th>Unlike</th>\n",
       "      <th>Ip</th>\n",
       "      <th>PriceInTxt</th>\n",
       "      <th>target</th>\n",
       "    </tr>\n",
       "  </thead>\n",
       "  <tbody>\n",
       "    <tr>\n",
       "      <td>0</td>\n",
       "      <td>2019-10-31 09:01:00</td>\n",
       "      <td>50900</td>\n",
       "      <td>51100</td>\n",
       "      <td>50900</td>\n",
       "      <td>51000</td>\n",
       "      <td>580976</td>\n",
       "      <td>192</td>\n",
       "      <td>계엄령 문건 덮었다는 '윤석열 직인'···알고보니 자동 출력</td>\n",
       "      <td>이젠 호모쉐퀴들도 부역자 노릇을 하는구나 군대도 안다녀온 게이새끼 허위사실유포로 ...</td>\n",
       "      <td>6</td>\n",
       "      <td>4</td>\n",
       "      <td>125.178.***.115</td>\n",
       "      <td>-1</td>\n",
       "      <td>51000</td>\n",
       "    </tr>\n",
       "  </tbody>\n",
       "</table>\n",
       "</div>"
      ],
      "text/plain": [
       "                key_0  close   high    low   open     vol  Views  \\\n",
       "0 2019-10-31 09:01:00  50900  51100  50900  51000  580976    192   \n",
       "\n",
       "                               Title  \\\n",
       "0  계엄령 문건 덮었다는 '윤석열 직인'···알고보니 자동 출력   \n",
       "\n",
       "                                             Content  Like  Unlike  \\\n",
       "0   이젠 호모쉐퀴들도 부역자 노릇을 하는구나 군대도 안다녀온 게이새끼 허위사실유포로 ...     6       4   \n",
       "\n",
       "                Ip  PriceInTxt  target  \n",
       "0  125.178.***.115          -1   51000  "
      ]
     },
     "execution_count": 89,
     "metadata": {},
     "output_type": "execute_result"
    }
   ],
   "source": [
    "df[0:1]"
   ]
  },
  {
   "cell_type": "code",
   "execution_count": 90,
   "metadata": {},
   "outputs": [],
   "source": [
    "def replace_tag(content) : \n",
    "    return content.replace('\\r', '').replace('\\n', '').replace('\\\\', '')"
   ]
  },
  {
   "cell_type": "code",
   "execution_count": 91,
   "metadata": {},
   "outputs": [],
   "source": [
    "def replace_link(content): \n",
    "    extractor = URLExtract()\n",
    "    urls = extractor.find_urls(content)\n",
    "    for url in urls : \n",
    "        content = content.replace(url, '링크')\n",
    "\n",
    "    return content"
   ]
  },
  {
   "cell_type": "code",
   "execution_count": 92,
   "metadata": {},
   "outputs": [],
   "source": [
    "def replace_punctuation(content) : \n",
    "    return content.replace(',', '')"
   ]
  },
  {
   "cell_type": "code",
   "execution_count": 93,
   "metadata": {},
   "outputs": [],
   "source": [
    "def get_numbers(content) : \n",
    "    content = content.replace('만원', '0000')\n",
    "    return content, [int(x) for x in re.findall('\\d+', content)]"
   ]
  },
  {
   "cell_type": "code",
   "execution_count": 94,
   "metadata": {},
   "outputs": [],
   "source": [
    "band = 0.1\n",
    "# price in txt가 close와 얼마나 비슷한지 확인하고, 너무 차이나면 관계없는 숫자이기때문에 걸러야 함\n",
    "# price in txt의 dimension도 확인하고, 너무 많을 경우 의미없는 숫자들일 가능성이 큼\n",
    "def get_price_in_txt(numbers_in_txt, close) : \n",
    "    if len(numbers_in_txt) == 1 :\n",
    "        number_in_txt = numbers_in_txt[0]\n",
    "        if (number_in_txt <= close * (1+band)) and (number_in_txt >= close * (1-band)) :\n",
    "            return number_in_txt\n",
    "        else : \n",
    "            return -1\n",
    "    else :\n",
    "        return -1"
   ]
  },
  {
   "cell_type": "code",
   "execution_count": 95,
   "metadata": {},
   "outputs": [],
   "source": [
    "def preprocess_pipeline(text, close) : \n",
    "    bypass = replace_tag(text)\n",
    "    bypass = replace_link(bypass)\n",
    "    bypass = replace_punctuation(bypass)\n",
    "    bypass, numbers_in_txt = get_numbers(bypass)\n",
    "    price_in_txt = get_price_in_txt(numbers_in_txt, close)\n",
    "    \n",
    "    return bypass, price_in_txt"
   ]
  },
  {
   "cell_type": "markdown",
   "metadata": {},
   "source": [
    "### Examples"
   ]
  },
  {
   "cell_type": "code",
   "execution_count": 96,
   "metadata": {},
   "outputs": [
    {
     "name": "stdout",
     "output_type": "stream",
     "text": [
      "\"내년 주시할 50대 기업에 한국에선 삼성전자만 포함\"ㅋ\n",
      "51200 -1\n",
      "['[CLS]', '▁\"', '내', '년', '▁주', '시', '할', '▁50', '대', '▁기업', '에', '▁한국', '에선', '▁삼성전자', '만', '▁포함', '\"', 'ᄏ', '[SEP]']\n",
      "[   2  518 5678 5712 4213 6705 7836  612 5808 1292 6896 4958 6906 2653\n",
      " 6150 4864    8  492    3    0]\n"
     ]
    }
   ],
   "source": [
    "idx = 10\n",
    "close = df['close'][idx]\n",
    "text = df['Title'][idx]\n",
    "bypass, price_in_txt = preprocess_pipeline(text, close)\n",
    "print(bypass)\n",
    "print(close, price_in_txt)\n",
    "\n",
    "# Tokenized input\n",
    "bypass = [bypass]\n",
    "train_tokens = list(map(lambda t: ['[CLS]'] + sp.EncodeAsPieces(t) + ['[SEP]'], bypass))\n",
    "print(train_tokens[0])\n",
    "train_tokens_ids = pad_sequences(list(map(vocab.to_indices, train_tokens)), maxlen=512, truncating=\"post\", padding=\"post\", dtype=\"int\")\n",
    "print(train_tokens_ids[0][:20])"
   ]
  },
  {
   "cell_type": "code",
   "execution_count": 97,
   "metadata": {},
   "outputs": [
    {
     "name": "stdout",
     "output_type": "stream",
     "text": [
      " 종합편성채널 MBN이 2011년 개국 이래 최대 위기를 맞았다. 금융당국이 MBN 법인과 전 대표이사 등 3명을 검찰에 고발하면서 MBN의 종합편성(종편)채널 유지 여부가 불투명해졌다. 금융위원회 산하 증권선물위원회(증선위)는 지난 30일 정례회의를 열고 MBN의 외부감사법 위반 혐의에 대한 금융감독원의 감리 결과 조치안을 안건으로 상정해 의결했다. 증선위는 MBN 법인 장대환 전 대표이사 등 3명을 검찰에 고발하기로 결정했다. 현재 미등기임원으로 돼 있는 장 전 대표이사에 대한 해임권고도 의결했다. MBN에 과징금 70000000 감사인지정 3년의 조치도 내렸다. MBN은 2011년 종편 출범 당시 최소 자본금(3000억원)을 마련하기 위해 은행에서 임직원 명의로 550억원을 차명으로 대출받아 회사 주식을 사게 한 뒤 이를 은폐하기 위해 분식회계 했다는 의혹을 받고 있다. 증선위는 \"MBN이 2011년 4월 유상증자를 통해 외부자금을 조달하는 과정에서 회사자금으로 자사주를 취득하고도 증자에 들어간 자금을 가공의 자산인 정기예금으로 허위 계상해 자기자본을 과대계상했다\"고 설명했다. 회사가 회사 자금으로 자사주를 사고도 이를 은폐하기 위해 재무제표를 허위로 작성하는 등 고의 분식회계가 있었다는 판단이다. 증선위는 MBN 외부감사인인 위드회계법인에 대해 감사 절차 소홀로 손해배상 공동기금 추가적립 100%와 MBN에 대한 감사업무제한 5년 제재도 결정했다. 공인회계사 2명에 대한 검찰 고발과 MBN 감사업무 제한 5년 등도 의결했다. 종편 재승인 업무를 맡고 있는 방송통신위원회도 관련 조사를 벌이고 있다. 증선위의 이같은 제재가 향후 MBN의 종편 재승인 심사에 영향을 줄 수 있을 것이란 전망도 조심스레 나온다. MBN은 이번 사안과 관련해 사실무근이라는 입장을 밝혀왔다. 한경닷컴 뉴스룸 open@hankyung.com  \n",
      "51200 -1\n",
      "['[CLS]', '▁종합', '편', '성', '채널', '▁', 'MBN', '이', '▁2011', '년', '▁', '개국', '▁이래', '▁최대', '▁위기', '를', '▁맞았다', '.', '▁금융당국', '이', '▁', 'MBN', '▁법인', '과', '▁전', '▁대표이사', '▁등', '▁3', '명을', '▁검찰에', '▁고발', '하면서', '▁', 'MBN', '의', '▁종합', '편', '성', '(', '종', '편', ')', '채널', '▁유지', '▁여부', '가', '▁불투명', '해졌다', '.', '▁금융', '위원회', '▁산하', '▁증권', '선물', '위원회', '(', '증', '선', '위', ')', '는', '▁지난', '▁30', '일', '▁정', '례', '회의를', '▁열고', '▁', 'MBN', '의', '▁외부', '감사', '법', '▁위반', '▁혐의', '에', '▁대한', '▁금융감독원', '의', '▁감', '리', '▁결과', '▁조치', '안을', '▁안', '건으로', '▁상', '정', '해', '▁의결', '했다', '.', '▁증', '선', '위는', '▁', 'MBN', '▁법인', '▁장', '대', '환', '▁전', '▁대표이사', '▁등', '▁3', '명을', '▁검찰에', '▁고발', '하기로', '▁결정했다', '.', '▁현재', '▁미', '등', '기', '임', '원으로', '▁돼', '▁있는', '▁장', '▁전', '▁대표이사', '에', '▁대한', '▁해', '임', '권', '고', '도', '▁의결', '했다', '.', '▁', 'MBN', '에', '▁과징금', '▁', '700', '00000', '▁감사', '인지', '정', '▁3', '년', '의', '▁조치', '도', '▁내렸다', '.', '▁', 'MBN', '은', '▁2011', '년', '▁종', '편', '▁출범', '▁당시', '▁최소', '▁자본', '금', '(', '3000', '억원', ')', '을', '▁마련', '하기', '▁위해', '▁은행', '에서', '▁임직원', '▁명의', '로', '▁5', '50', '억원을', '▁차', '명으로', '▁대출', '받아', '▁회사', '▁주식', '을', '▁사', '게', '▁한', '▁뒤', '▁이를', '▁', '은', '폐', '하기', '▁위해', '▁분', '식', '회', '계', '▁했다', '는', '▁의혹을', '▁받고', '▁있다', '.', '▁증', '선', '위는', '▁\"', 'MBN', '이', '▁2011', '년', '▁4', '월', '▁유', '상', '증', '자를', '▁통해', '▁외부', '자금', '을', '▁조달', '하는', '▁과정에서', '▁회사', '자금', '으로', '▁자사', '주', '를', '▁취득', '하고', '도', '▁증', '자', '에', '▁들어간', '▁자금', '을', '▁', '가', '공', '의', '▁자산', '인', '▁정기', '예', '금', '으로', '▁허위', '▁계', '상', '해', '▁자기', '자본', '을', '▁', '과', '대', '계', '상', '했다', '\"', '고', '▁설명했다', '.', '▁회사', '가', '▁회사', '▁자금', '으로', '▁자사', '주', '를', '▁사고', '도', '▁이를', '▁', '은', '폐', '하기', '▁위해', '▁재무', '제', '표를', '▁허위', '로', '▁작성', '하는', '▁등', '▁고', '의', '▁분', '식', '회', '계', '가', '▁있었다', '는', '▁판단', '이다', '.', '▁증', '선', '위는', '▁', 'MBN', '▁외부', '감사', '인', '인', '▁위', '드', '회', '계', '법인', '에', '▁대해', '▁감사', '▁절차', '▁소', '홀', '로', '▁손해배상', '▁공동', '기금', '▁추가', '적', '립', '▁100%', '와', '▁', 'MBN', '에', '▁대한', '▁감사', '업무', '제', '한', '▁5', '년', '▁제재', '도', '▁결정했다', '.', '▁공', '인', '회', '계', '사', '▁2', '명', '에', '▁대한', '▁검찰', '▁고발', '과', '▁', 'MBN', '▁감사', '업무', '▁제한', '▁5', '년', '▁등도', '▁의결', '했다', '.', '▁종', '편', '▁재', '승', '인', '▁업무를', '▁맡고', '▁있는', '▁방송', '통신', '위원회', '도', '▁관련', '▁조사를', '▁벌이고', '▁있다', '.', '▁증', '선', '위', '의', '▁이같은', '▁제재', '가', '▁향후', '▁', 'MBN', '의', '▁종', '편', '▁재', '승', '인', '▁심사', '에', '▁영향을', '▁줄', '▁수', '▁있을', '▁것이란', '▁전망', '도', '▁조심', '스', '레', '▁나온다', '.', '▁', 'MBN', '은', '▁이번', '▁사안', '과', '▁관련해', '▁사실', '무', '근', '이라는', '▁입장을', '▁밝혀', '왔다', '.', '▁한', '경', '닷컴', '▁뉴스', '룸', '▁', 'o', 'p', 'en', '@', 'h', 'an', 'k', 'y', 'un', 'g', '.', 'com', '[SEP]']\n",
      "[   2 4203 7720 6573 7407  517  318 7096  568 5712  517 5358 3670 4527\n",
      " 3553 6116 1975   54 1244 7096]\n"
     ]
    }
   ],
   "source": [
    "idx = 31\n",
    "close = df['close'][idx]\n",
    "text = df['Content'][idx]\n",
    "bypass, price_in_txt = preprocess_pipeline(text, close)\n",
    "print(bypass)\n",
    "print(close, price_in_txt)\n",
    "\n",
    "# Tokenized input\n",
    "bypass = [bypass]\n",
    "train_tokens = list(map(lambda t: ['[CLS]'] + sp.EncodeAsPieces(t) + ['[SEP]'], bypass))\n",
    "print(train_tokens[0])\n",
    "train_tokens_ids = pad_sequences(list(map(vocab.to_indices, train_tokens)), maxlen=512, truncating=\"post\", padding=\"post\", dtype=\"int\")\n",
    "print(train_tokens_ids[0][:20])"
   ]
  },
  {
   "cell_type": "markdown",
   "metadata": {},
   "source": [
    "# Apply Preprocessing Functions"
   ]
  },
  {
   "cell_type": "code",
   "execution_count": 98,
   "metadata": {},
   "outputs": [
    {
     "ename": "NameError",
     "evalue": "name 'pbar' is not defined",
     "output_type": "error",
     "traceback": [
      "\u001b[0;31m---------------------------------------------------------------------------\u001b[0m",
      "\u001b[0;31mNameError\u001b[0m                                 Traceback (most recent call last)",
      "\u001b[0;32m<ipython-input-98-83870bb55e9c>\u001b[0m in \u001b[0;36m<module>\u001b[0;34m\u001b[0m\n\u001b[1;32m     18\u001b[0m \u001b[0;34m\u001b[0m\u001b[0m\n\u001b[1;32m     19\u001b[0m \u001b[0mdf\u001b[0m\u001b[0;34m[\u001b[0m\u001b[0;34m'PriceInTxt'\u001b[0m\u001b[0;34m]\u001b[0m \u001b[0;34m=\u001b[0m \u001b[0;34m-\u001b[0m\u001b[0;36m1\u001b[0m\u001b[0;34m\u001b[0m\u001b[0;34m\u001b[0m\u001b[0m\n\u001b[0;32m---> 20\u001b[0;31m \u001b[0mpreprocess_content\u001b[0m\u001b[0;34m(\u001b[0m\u001b[0;36m0\u001b[0m\u001b[0;34m)\u001b[0m\u001b[0;34m\u001b[0m\u001b[0;34m\u001b[0m\u001b[0m\n\u001b[0m\u001b[1;32m     21\u001b[0m \u001b[0mdisplay\u001b[0m\u001b[0;34m(\u001b[0m\u001b[0mdf\u001b[0m\u001b[0;34m[\u001b[0m\u001b[0;36m0\u001b[0m\u001b[0;34m:\u001b[0m\u001b[0;36m1\u001b[0m\u001b[0;34m]\u001b[0m\u001b[0;34m)\u001b[0m\u001b[0;34m\u001b[0m\u001b[0;34m\u001b[0m\u001b[0m\n",
      "\u001b[0;32m<ipython-input-98-83870bb55e9c>\u001b[0m in \u001b[0;36mpreprocess_content\u001b[0;34m(idx)\u001b[0m\n\u001b[1;32m     14\u001b[0m     \u001b[0;32mif\u001b[0m \u001b[0mdf\u001b[0m\u001b[0;34m[\u001b[0m\u001b[0;34m'PriceInTxt'\u001b[0m\u001b[0;34m]\u001b[0m\u001b[0;34m.\u001b[0m\u001b[0miloc\u001b[0m\u001b[0;34m[\u001b[0m\u001b[0midx\u001b[0m\u001b[0;34m]\u001b[0m \u001b[0;34m==\u001b[0m \u001b[0;34m-\u001b[0m\u001b[0;36m1\u001b[0m \u001b[0;34m:\u001b[0m\u001b[0;34m\u001b[0m\u001b[0;34m\u001b[0m\u001b[0m\n\u001b[1;32m     15\u001b[0m         \u001b[0mdf\u001b[0m\u001b[0;34m[\u001b[0m\u001b[0;34m'PriceInTxt'\u001b[0m\u001b[0;34m]\u001b[0m\u001b[0;34m.\u001b[0m\u001b[0miloc\u001b[0m\u001b[0;34m[\u001b[0m\u001b[0midx\u001b[0m\u001b[0;34m]\u001b[0m \u001b[0;34m=\u001b[0m \u001b[0mprice_in_content\u001b[0m\u001b[0;34m\u001b[0m\u001b[0;34m\u001b[0m\u001b[0m\n\u001b[0;32m---> 16\u001b[0;31m     \u001b[0mpbar\u001b[0m\u001b[0;34m.\u001b[0m\u001b[0mupdate\u001b[0m\u001b[0;34m(\u001b[0m\u001b[0;36m1\u001b[0m\u001b[0;34m)\u001b[0m\u001b[0;34m\u001b[0m\u001b[0;34m\u001b[0m\u001b[0m\n\u001b[0m\u001b[1;32m     17\u001b[0m     \u001b[0;32mreturn\u001b[0m\u001b[0;34m\u001b[0m\u001b[0;34m\u001b[0m\u001b[0m\n\u001b[1;32m     18\u001b[0m \u001b[0;34m\u001b[0m\u001b[0m\n",
      "\u001b[0;31mNameError\u001b[0m: name 'pbar' is not defined"
     ]
    }
   ],
   "source": [
    "def preprocess_content(idx) : \n",
    "    close = df['close'][idx]\n",
    "    title = df['Title'][idx]\n",
    "    content = df['Content'][idx]\n",
    "    \n",
    "    bypass_title, price_in_title = preprocess_pipeline(title, close)\n",
    "    bypass_content, price_in_content = preprocess_pipeline(content, close)\n",
    "    \n",
    "    df['Title'].iloc[idx] = bypass_title\n",
    "    df['Content'].iloc[idx] = bypass_content\n",
    "    \n",
    "    if df['PriceInTxt'].iloc[idx] == -1 : \n",
    "        df['PriceInTxt'].iloc[idx] = price_in_title\n",
    "    if df['PriceInTxt'].iloc[idx] == -1 : \n",
    "        df['PriceInTxt'].iloc[idx] = price_in_content\n",
    "    pbar.update(1)\n",
    "    return\n",
    "\n",
    "df['PriceInTxt'] = -1\n",
    "preprocess_content(0)\n",
    "display(df[0:1])"
   ]
  },
  {
   "cell_type": "code",
   "execution_count": null,
   "metadata": {},
   "outputs": [],
   "source": [
    "# convert timestamp of price dataframe as datetime object\n",
    "pool = multiprocessing.pool.ThreadPool(num_of_cores)\n",
    "args = list(range(df.shape[0]))\n",
    "df['PriceInTxt'] = -1\n",
    "\n",
    "with tqdm.tqdm(total=len(args)) as pbar:\n",
    "    for i in range(len(args)):\n",
    "        pool.apply_async(preprocess_content, [args[i]])\n",
    "    pool.close()\n",
    "    pool.join()       \n",
    "    \n",
    "df.to_pickle('data/example/preprocessed_005930.pkl')"
   ]
  },
  {
   "cell_type": "markdown",
   "metadata": {},
   "source": [
    "# Handle Numeric Values"
   ]
  },
  {
   "cell_type": "code",
   "execution_count": null,
   "metadata": {},
   "outputs": [],
   "source": [
    "df"
   ]
  },
  {
   "cell_type": "code",
   "execution_count": null,
   "metadata": {},
   "outputs": [],
   "source": [
    "columns = df.select_dtypes('float64').columns\n",
    "for column in columns : \n",
    "    df[column] = df[column].astype('Int64')\n",
    "\n",
    "df.to_pickle('data/example/preprocessed_005930.pkl')\n",
    "df.info()"
   ]
  },
  {
   "cell_type": "markdown",
   "metadata": {},
   "source": [
    "# EDA"
   ]
  },
  {
   "cell_type": "code",
   "execution_count": null,
   "metadata": {},
   "outputs": [],
   "source": [
    "df = pd.read_pickle('data/example/preprocessed_005930.pkl')"
   ]
  },
  {
   "cell_type": "code",
   "execution_count": 68,
   "metadata": {},
   "outputs": [
    {
     "data": {
      "text/plain": [
       "key_0\n",
       "2019-10-31 09:01:00    False\n",
       "2019-10-31 09:01:00    False\n",
       "2019-10-31 09:02:00     True\n",
       "2019-10-31 09:03:00    False\n",
       "2019-10-31 09:04:00    False\n",
       "                       ...  \n",
       "2019-11-12 08:52:00    False\n",
       "2019-11-12 08:56:00    False\n",
       "2019-11-12 08:57:00    False\n",
       "2019-11-12 08:57:00    False\n",
       "2019-11-12 08:59:00    False\n",
       "Name: Title, Length: 8150, dtype: bool"
      ]
     },
     "execution_count": 68,
     "metadata": {},
     "output_type": "execute_result"
    }
   ],
   "source": [
    "# check text nan\n",
    "# False : Text exists, True : NaN\n",
    "textnan = df['Title'].isna()\n",
    "textnan"
   ]
  },
  {
   "cell_type": "code",
   "execution_count": 69,
   "metadata": {},
   "outputs": [
    {
     "name": "stdout",
     "output_type": "stream",
     "text": [
      "False    6033\n",
      "True     2117\n",
      "Name: Title, dtype: int64\n",
      "1    6033\n",
      "0    2117\n",
      "Name: Title, dtype: int64\n"
     ]
    }
   ],
   "source": [
    "# 1 : Text exists, 0 : NaN\n",
    "print(textnan.value_counts())\n",
    "textnan = textnan.apply(lambda x : 0 if x else 1) \n",
    "print(textnan.value_counts())"
   ]
  },
  {
   "cell_type": "code",
   "execution_count": 70,
   "metadata": {},
   "outputs": [
    {
     "data": {
      "image/png": "[encoded data removed]",
      "text/plain": [
       "<Figure size 720x360 with 1 Axes>"
      ]
     },
     "metadata": {
      "needs_background": "light"
     },
     "output_type": "display_data"
    }
   ],
   "source": [
    "plt.figure(figsize=(10, 5))\n",
    "plt.plot(textnan[textnan==1], marker='o', label='Text exists', alpha=0.4)\n",
    "plt.plot(textnan[textnan==0], marker='o', label='No text', alpha=0.4)\n",
    "plt.legend()\n",
    "plt.show()"
   ]
  },
  {
   "cell_type": "code",
   "execution_count": 71,
   "metadata": {},
   "outputs": [
    {
     "data": {
      "image/png": "[encoded data removed]",
      "text/plain": [
       "<Figure size 432x288 with 1 Axes>"
      ]
     },
     "metadata": {
      "needs_background": "light"
     },
     "output_type": "display_data"
    },
    {
     "data": {
      "image/png": "[encoded data removed]",
      "text/plain": [
       "<Figure size 432x288 with 1 Axes>"
      ]
     },
     "metadata": {
      "needs_background": "light"
     },
     "output_type": "display_data"
    },
    {
     "data": {
      "image/png": "[encoded data removed]",
      "text/plain": [
       "<Figure size 432x288 with 1 Axes>"
      ]
     },
     "metadata": {
      "needs_background": "light"
     },
     "output_type": "display_data"
    }
   ],
   "source": [
    "import seaborn as sns\n",
    "\n",
    "sns.distplot(textnan[textnan==1].index.hour, label='Text exists', color='skyblue')\n",
    "plt.legend()\n",
    "plt.show()\n",
    "\n",
    "sns.distplot(textnan[textnan==0].index.hour, label='No text', color='orange')\n",
    "plt.legend()\n",
    "plt.show()\n",
    "\n",
    "sns.distplot(textnan[textnan==1].index.hour, label='Text exists', color='skyblue')\n",
    "sns.distplot(textnan[textnan==0].index.hour, label='No text', color='orange')\n",
    "plt.legend()\n",
    "plt.show()"
   ]
  },
  {
   "cell_type": "code",
   "execution_count": 72,
   "metadata": {},
   "outputs": [],
   "source": [
    "year = 2019\n",
    "month = 11\n",
    "day = 1\n",
    "df_given_day = df[(df.index.year==year) & (df.index.month==month) & (df.index.day==day)]\n",
    "df_given_day = df_given_day[df_given_day['close'].notnull()]"
   ]
  },
  {
   "cell_type": "code",
   "execution_count": 73,
   "metadata": {},
   "outputs": [
    {
     "data": {
      "text/plain": [
       "close        0\n",
       "high         0\n",
       "low          0\n",
       "open         0\n",
       "vol          0\n",
       "Views      239\n",
       "Title      239\n",
       "Content    239\n",
       "Like       242\n",
       "Unlike     242\n",
       "Ip         242\n",
       "dtype: int64"
      ]
     },
     "execution_count": 73,
     "metadata": {},
     "output_type": "execute_result"
    }
   ],
   "source": [
    "df_given_day.isna().sum()"
   ]
  },
  {
   "cell_type": "code",
   "execution_count": 74,
   "metadata": {},
   "outputs": [
    {
     "data": {
      "image/png": "[encoded data removed]",
      "text/plain": [
       "<Figure size 1440x360 with 1 Axes>"
      ]
     },
     "metadata": {
      "needs_background": "light"
     },
     "output_type": "display_data"
    }
   ],
   "source": [
    "plt.figure(figsize=(20, 5))\n",
    "plt.plot(df_given_day['close'].astype('int'), label='close')\n",
    "plt.plot(df_given_day['high'].astype('int'), label='high')\n",
    "plt.plot(df_given_day['low'].astype('int'), label='low')\n",
    "plt.legend()\n",
    "plt.show()"
   ]
  },
  {
   "cell_type": "code",
   "execution_count": 75,
   "metadata": {},
   "outputs": [
    {
     "data": {
      "image/png": "[encoded data removed]",
      "text/plain": [
       "<Figure size 1440x360 with 1 Axes>"
      ]
     },
     "metadata": {
      "needs_background": "light"
     },
     "output_type": "display_data"
    }
   ],
   "source": [
    "plt.figure(figsize=(20, 5))\n",
    "plt.plot(df_given_day['vol'].astype('int'), label='volume')\n",
    "plt.legend()\n",
    "plt.show()"
   ]
  },
  {
   "cell_type": "markdown",
   "metadata": {},
   "source": [
    "# Prepare Dataset"
   ]
  },
  {
   "cell_type": "code",
   "execution_count": 76,
   "metadata": {},
   "outputs": [],
   "source": [
    "from sklearn.model_selection import train_test_split\n",
    "import datetime"
   ]
  },
  {
   "cell_type": "code",
   "execution_count": 77,
   "metadata": {},
   "outputs": [],
   "source": [
    "# hyperparameters\n",
    "time_delay_to_predict = datetime.timedelta(minutes=5)\n",
    "filename = 'data/example/preprocessed_005930.pkl'"
   ]
  },
  {
   "cell_type": "code",
   "execution_count": 78,
   "metadata": {},
   "outputs": [
    {
     "name": "stderr",
     "output_type": "stream",
     "text": [
      "  0%|          | 0/3800 [00:00<?, ?it/s]/usr/local/lib/python3.6/dist-packages/pandas/core/indexing.py:205: SettingWithCopyWarning: \n",
      "A value is trying to be set on a copy of a slice from a DataFrame\n",
      "\n",
      "See the caveats in the documentation: http://pandas.pydata.org/pandas-docs/stable/user_guide/indexing.html#returning-a-view-versus-a-copy\n",
      "  self._setitem_with_indexer(indexer, value)\n",
      "100%|██████████| 3800/3800 [00:13<00:00, 273.94it/s]\n"
     ]
    }
   ],
   "source": [
    "# get target value\n",
    "def get_target_value(filename, time_delay_to_predict) : \n",
    "    df = pd.read_pickle(filename)\n",
    "    df = df.reset_index(drop=False)\n",
    "    df = df[df['close'].notnull()]\n",
    "\n",
    "    df['target'] = -1\n",
    "\n",
    "    def get_delayed_price(idx) : \n",
    "        try : \n",
    "            current_time = df['key_0'][idx]\n",
    "            delayed_time = current_time + time_delay_to_predict\n",
    "            delayed_price = df[df['key_0']==delayed_time]\n",
    "            df['target'].iloc[idx] = delayed_price['close'].values[0]\n",
    "            pbar.update(1)\n",
    "            return\n",
    "        except Exception as e :\n",
    "            pbar.update(1)\n",
    "            return\n",
    "\n",
    "    # create target (y) column\n",
    "    with tqdm.tqdm(total=df.shape[0]) as pbar:\n",
    "        for i in range(df.shape[0]) :\n",
    "            get_delayed_price(i)\n",
    "            \n",
    "    return df\n",
    "\n",
    "df = get_target_value(filename, time_delay_to_predict)"
   ]
  },
  {
   "cell_type": "code",
   "execution_count": 79,
   "metadata": {},
   "outputs": [
    {
     "name": "stderr",
     "output_type": "stream",
     "text": [
      "/usr/local/lib/python3.6/dist-packages/ipykernel_launcher.py:6: SettingWithCopyWarning: \n",
      "A value is trying to be set on a copy of a slice from a DataFrame.\n",
      "Try using .loc[row_indexer,col_indexer] = value instead\n",
      "\n",
      "See the caveats in the documentation: http://pandas.pydata.org/pandas-docs/stable/user_guide/indexing.html#returning-a-view-versus-a-copy\n",
      "  \n"
     ]
    },
    {
     "data": {
      "image/png": "[encoded data removed]",
      "text/plain": [
       "<Figure size 1440x360 with 1 Axes>"
      ]
     },
     "metadata": {
      "needs_background": "light"
     },
     "output_type": "display_data"
    },
    {
     "name": "stdout",
     "output_type": "stream",
     "text": [
      "(1254, 7) 1184\n",
      "(418, 7) 396\n"
     ]
    }
   ],
   "source": [
    "def split_df(df) : \n",
    "\n",
    "    df_notnull = df[(df['Title'].notnull()) & (df['target']!=-1)]\n",
    "    df_notnull = df[df['Like'].notnull()]\n",
    "    df_notnull = df[df['Unlike'].notnull()]\n",
    "    df_notnull['PriceInTxt'] = df_notnull['PriceInTxt'].apply(lambda x : np.nan if x==-1 else x)\n",
    "    df_train, df_valid = train_test_split(df_notnull, shuffle=False)\n",
    "    \n",
    "    columns_to_drop = ['Title', 'Content', 'key_0', 'high', 'low', 'target']\n",
    "\n",
    "    train_titles = df_train['Title']\n",
    "    train_contents = df_train['Content']\n",
    "    train_timestamp = df_train['key_0']\n",
    "    train_labels = df_train['target']\n",
    "    train_numeric = df_train.drop(columns_to_drop, axis=1)\n",
    "\n",
    "    valid_titles = df_valid['Title']\n",
    "    valid_contents = df_valid['Content']\n",
    "    valid_timestamp = df_valid['key_0']\n",
    "    valid_labels = df_valid['target']\n",
    "    valid_numeric = df_valid.drop(columns_to_drop, axis=1)\n",
    "    \n",
    "    # show IP count\n",
    "    plt.figure(figsize=(20,5))\n",
    "    plt.xticks(rotation=90)\n",
    "    plt.scatter(train_numeric['Ip'].value_counts().index, train_numeric['Ip'].value_counts(), marker='o', alpha=0.4, label='train')\n",
    "    plt.scatter(valid_numeric['Ip'].value_counts().index, valid_numeric['Ip'].value_counts(), marker='o', alpha=0.4, label='valid')\n",
    "    plt.legend()\n",
    "    plt.title('IP counts')\n",
    "    plt.xlabel('IP')\n",
    "    plt.ylabel('count')\n",
    "    plt.show()\n",
    "    train_numeric = train_numeric.drop(['Ip'], axis=1)\n",
    "    valid_numeric = valid_numeric.drop(['Ip'], axis=1)\n",
    "    \n",
    "    # how many rows have price in text?\n",
    "    print(train_numeric.shape, train_numeric['PriceInTxt'].isna().sum())\n",
    "    print(valid_numeric.shape, valid_numeric['PriceInTxt'].isna().sum())\n",
    "    train_numeric = train_numeric.drop(['PriceInTxt'], axis=1)\n",
    "    valid_numeric = valid_numeric.drop(['PriceInTxt'], axis=1)\n",
    "    \n",
    "    # to convert as torch, change datatype\n",
    "    for column in train_numeric.columns : \n",
    "        train_numeric[column] = train_numeric[column].astype(int)\n",
    "        valid_numeric[column] = valid_numeric[column].astype(int)\n",
    "    train_numeric = train_numeric.values\n",
    "    valid_numeric = valid_numeric.values\n",
    "    \n",
    "    return train_titles, train_contents, train_timestamp, train_numeric, train_labels, valid_titles, valid_contents, valid_timestamp, valid_numeric, valid_labels\n",
    "\n",
    "train_titles, train_contents, train_timestamp, train_numeric, train_labels, valid_titles, valid_contents, valid_timestamp, valid_numeric, valid_labels = split_df(df)"
   ]
  },
  {
   "cell_type": "code",
   "execution_count": 80,
   "metadata": {},
   "outputs": [],
   "source": [
    "def get_tokenized(titles, contents, labels) : \n",
    "    titles_tokens = list(map(lambda t: ['[CLS]'] + sp.EncodeAsPieces(t) + ['[SEP]'], titles))\n",
    "    titles_tokens_ids = pad_sequences(list(map(vocab.to_indices, titles_tokens)), maxlen=512, truncating=\"post\", padding=\"post\", dtype=\"int\")\n",
    "    titles_masks = [[float(i > 0) for i in ii] for ii in titles_tokens_ids]\n",
    "\n",
    "    contents_tokens = list(map(lambda t: ['[CLS]'] + sp.EncodeAsPieces(t) + ['[SEP]'], contents))\n",
    "    contents_tokens_ids = pad_sequences(list(map(vocab.to_indices, contents_tokens)), maxlen=512, truncating=\"post\", padding=\"post\", dtype=\"int\")\n",
    "    contents_masks = [[float(i > 0) for i in ii] for ii in contents_tokens_ids]\n",
    "\n",
    "    y = labels.values\n",
    "    \n",
    "    return titles_tokens, titles_tokens_ids, titles_masks, contents_tokens, contents_tokens_ids, contents_masks, y\n",
    "\n",
    "train_titles_tokens, train_titles_tokens_ids, train_titles_masks, train_contents_tokens, train_contents_tokens_ids, train_contents_masks, train_y = get_tokenized(train_titles, train_contents, train_labels)\n",
    "valid_titles_tokens, valid_titles_tokens_ids, valid_titles_masks, valid_contents_tokens, valid_contents_tokens_ids, valid_contents_masks, valid_y = get_tokenized(valid_titles, valid_contents, valid_labels)"
   ]
  },
  {
   "cell_type": "markdown",
   "metadata": {},
   "source": [
    "# Model"
   ]
  },
  {
   "cell_type": "code",
   "execution_count": 81,
   "metadata": {},
   "outputs": [],
   "source": [
    "class BertRegressor(nn.Module) : \n",
    "    def __init__(self, pretrained_bert, num_numeric, size_final) : \n",
    "        super(BertRegressor, self).__init__()\n",
    "        \n",
    "        self.num_numeric = num_numeric\n",
    "        self.size_final = size_final\n",
    "        self.relu = nn.ReLU()\n",
    "        \n",
    "        self.bert = pretrained_bert\n",
    "        \n",
    "        self.fc_in = nn.Linear(self.num_numeric, self.num_numeric)\n",
    "        \n",
    "        self.fc_1 = nn.Linear(768+self.num_numeric, self.size_final)\n",
    "\n",
    "        self.fc_out = nn.Linear(self.size_final, 1)\n",
    "    \n",
    "    def forward(self, tokens, numerics, masks=None) : \n",
    "        # 1. bert for toknes\n",
    "        _, pooled_output = self.bert(tokens, attention_mask=masks, output_all_encoded_layers=False)  \n",
    "        \n",
    "        # 2. fcn for numerical input\n",
    "        fc_in = self.relu(self.fc_in(numerics))       \n",
    "        \n",
    "        # 3. concat output : (768 + num_of_numeric) -> bottleneck size\n",
    "        fc_1 = self.relu(self.fc_1(torch.cat([pooled_output, fc_in], dim=1)))\n",
    "        \n",
    "        # 4. final price : bottleneck -> 1\n",
    "        predicted_price = self.relu(self.fc_out(fc_1))\n",
    "\n",
    "        return predicted_price"
   ]
  },
  {
   "cell_type": "code",
   "execution_count": 82,
   "metadata": {
    "collapsed": true,
    "jupyter": {
     "outputs_hidden": true
    }
   },
   "outputs": [
    {
     "name": "stdout",
     "output_type": "stream",
     "text": [
      "using cached model\n",
      "using cached model\n"
     ]
    },
    {
     "data": {
      "text/plain": [
       "BertRegressor(\n",
       "  (relu): ReLU()\n",
       "  (bert): BertModel(\n",
       "    (embeddings): BertEmbeddings(\n",
       "      (word_embeddings): Embedding(8002, 768, padding_idx=0)\n",
       "      (position_embeddings): Embedding(512, 768)\n",
       "      (token_type_embeddings): Embedding(2, 768)\n",
       "      (LayerNorm): BertLayerNorm()\n",
       "      (dropout): Dropout(p=0.1, inplace=False)\n",
       "    )\n",
       "    (encoder): BertEncoder(\n",
       "      (layer): ModuleList(\n",
       "        (0): BertLayer(\n",
       "          (attention): BertAttention(\n",
       "            (self): BertSelfAttention(\n",
       "              (query): Linear(in_features=768, out_features=768, bias=True)\n",
       "              (key): Linear(in_features=768, out_features=768, bias=True)\n",
       "              (value): Linear(in_features=768, out_features=768, bias=True)\n",
       "              (dropout): Dropout(p=0.1, inplace=False)\n",
       "            )\n",
       "            (output): BertSelfOutput(\n",
       "              (dense): Linear(in_features=768, out_features=768, bias=True)\n",
       "              (LayerNorm): BertLayerNorm()\n",
       "              (dropout): Dropout(p=0.1, inplace=False)\n",
       "            )\n",
       "          )\n",
       "          (intermediate): BertIntermediate(\n",
       "            (dense): Linear(in_features=768, out_features=3072, bias=True)\n",
       "          )\n",
       "          (output): BertOutput(\n",
       "            (dense): Linear(in_features=3072, out_features=768, bias=True)\n",
       "            (LayerNorm): BertLayerNorm()\n",
       "            (dropout): Dropout(p=0.1, inplace=False)\n",
       "          )\n",
       "        )\n",
       "        (1): BertLayer(\n",
       "          (attention): BertAttention(\n",
       "            (self): BertSelfAttention(\n",
       "              (query): Linear(in_features=768, out_features=768, bias=True)\n",
       "              (key): Linear(in_features=768, out_features=768, bias=True)\n",
       "              (value): Linear(in_features=768, out_features=768, bias=True)\n",
       "              (dropout): Dropout(p=0.1, inplace=False)\n",
       "            )\n",
       "            (output): BertSelfOutput(\n",
       "              (dense): Linear(in_features=768, out_features=768, bias=True)\n",
       "              (LayerNorm): BertLayerNorm()\n",
       "              (dropout): Dropout(p=0.1, inplace=False)\n",
       "            )\n",
       "          )\n",
       "          (intermediate): BertIntermediate(\n",
       "            (dense): Linear(in_features=768, out_features=3072, bias=True)\n",
       "          )\n",
       "          (output): BertOutput(\n",
       "            (dense): Linear(in_features=3072, out_features=768, bias=True)\n",
       "            (LayerNorm): BertLayerNorm()\n",
       "            (dropout): Dropout(p=0.1, inplace=False)\n",
       "          )\n",
       "        )\n",
       "        (2): BertLayer(\n",
       "          (attention): BertAttention(\n",
       "            (self): BertSelfAttention(\n",
       "              (query): Linear(in_features=768, out_features=768, bias=True)\n",
       "              (key): Linear(in_features=768, out_features=768, bias=True)\n",
       "              (value): Linear(in_features=768, out_features=768, bias=True)\n",
       "              (dropout): Dropout(p=0.1, inplace=False)\n",
       "            )\n",
       "            (output): BertSelfOutput(\n",
       "              (dense): Linear(in_features=768, out_features=768, bias=True)\n",
       "              (LayerNorm): BertLayerNorm()\n",
       "              (dropout): Dropout(p=0.1, inplace=False)\n",
       "            )\n",
       "          )\n",
       "          (intermediate): BertIntermediate(\n",
       "            (dense): Linear(in_features=768, out_features=3072, bias=True)\n",
       "          )\n",
       "          (output): BertOutput(\n",
       "            (dense): Linear(in_features=3072, out_features=768, bias=True)\n",
       "            (LayerNorm): BertLayerNorm()\n",
       "            (dropout): Dropout(p=0.1, inplace=False)\n",
       "          )\n",
       "        )\n",
       "        (3): BertLayer(\n",
       "          (attention): BertAttention(\n",
       "            (self): BertSelfAttention(\n",
       "              (query): Linear(in_features=768, out_features=768, bias=True)\n",
       "              (key): Linear(in_features=768, out_features=768, bias=True)\n",
       "              (value): Linear(in_features=768, out_features=768, bias=True)\n",
       "              (dropout): Dropout(p=0.1, inplace=False)\n",
       "            )\n",
       "            (output): BertSelfOutput(\n",
       "              (dense): Linear(in_features=768, out_features=768, bias=True)\n",
       "              (LayerNorm): BertLayerNorm()\n",
       "              (dropout): Dropout(p=0.1, inplace=False)\n",
       "            )\n",
       "          )\n",
       "          (intermediate): BertIntermediate(\n",
       "            (dense): Linear(in_features=768, out_features=3072, bias=True)\n",
       "          )\n",
       "          (output): BertOutput(\n",
       "            (dense): Linear(in_features=3072, out_features=768, bias=True)\n",
       "            (LayerNorm): BertLayerNorm()\n",
       "            (dropout): Dropout(p=0.1, inplace=False)\n",
       "          )\n",
       "        )\n",
       "        (4): BertLayer(\n",
       "          (attention): BertAttention(\n",
       "            (self): BertSelfAttention(\n",
       "              (query): Linear(in_features=768, out_features=768, bias=True)\n",
       "              (key): Linear(in_features=768, out_features=768, bias=True)\n",
       "              (value): Linear(in_features=768, out_features=768, bias=True)\n",
       "              (dropout): Dropout(p=0.1, inplace=False)\n",
       "            )\n",
       "            (output): BertSelfOutput(\n",
       "              (dense): Linear(in_features=768, out_features=768, bias=True)\n",
       "              (LayerNorm): BertLayerNorm()\n",
       "              (dropout): Dropout(p=0.1, inplace=False)\n",
       "            )\n",
       "          )\n",
       "          (intermediate): BertIntermediate(\n",
       "            (dense): Linear(in_features=768, out_features=3072, bias=True)\n",
       "          )\n",
       "          (output): BertOutput(\n",
       "            (dense): Linear(in_features=3072, out_features=768, bias=True)\n",
       "            (LayerNorm): BertLayerNorm()\n",
       "            (dropout): Dropout(p=0.1, inplace=False)\n",
       "          )\n",
       "        )\n",
       "        (5): BertLayer(\n",
       "          (attention): BertAttention(\n",
       "            (self): BertSelfAttention(\n",
       "              (query): Linear(in_features=768, out_features=768, bias=True)\n",
       "              (key): Linear(in_features=768, out_features=768, bias=True)\n",
       "              (value): Linear(in_features=768, out_features=768, bias=True)\n",
       "              (dropout): Dropout(p=0.1, inplace=False)\n",
       "            )\n",
       "            (output): BertSelfOutput(\n",
       "              (dense): Linear(in_features=768, out_features=768, bias=True)\n",
       "              (LayerNorm): BertLayerNorm()\n",
       "              (dropout): Dropout(p=0.1, inplace=False)\n",
       "            )\n",
       "          )\n",
       "          (intermediate): BertIntermediate(\n",
       "            (dense): Linear(in_features=768, out_features=3072, bias=True)\n",
       "          )\n",
       "          (output): BertOutput(\n",
       "            (dense): Linear(in_features=3072, out_features=768, bias=True)\n",
       "            (LayerNorm): BertLayerNorm()\n",
       "            (dropout): Dropout(p=0.1, inplace=False)\n",
       "          )\n",
       "        )\n",
       "        (6): BertLayer(\n",
       "          (attention): BertAttention(\n",
       "            (self): BertSelfAttention(\n",
       "              (query): Linear(in_features=768, out_features=768, bias=True)\n",
       "              (key): Linear(in_features=768, out_features=768, bias=True)\n",
       "              (value): Linear(in_features=768, out_features=768, bias=True)\n",
       "              (dropout): Dropout(p=0.1, inplace=False)\n",
       "            )\n",
       "            (output): BertSelfOutput(\n",
       "              (dense): Linear(in_features=768, out_features=768, bias=True)\n",
       "              (LayerNorm): BertLayerNorm()\n",
       "              (dropout): Dropout(p=0.1, inplace=False)\n",
       "            )\n",
       "          )\n",
       "          (intermediate): BertIntermediate(\n",
       "            (dense): Linear(in_features=768, out_features=3072, bias=True)\n",
       "          )\n",
       "          (output): BertOutput(\n",
       "            (dense): Linear(in_features=3072, out_features=768, bias=True)\n",
       "            (LayerNorm): BertLayerNorm()\n",
       "            (dropout): Dropout(p=0.1, inplace=False)\n",
       "          )\n",
       "        )\n",
       "        (7): BertLayer(\n",
       "          (attention): BertAttention(\n",
       "            (self): BertSelfAttention(\n",
       "              (query): Linear(in_features=768, out_features=768, bias=True)\n",
       "              (key): Linear(in_features=768, out_features=768, bias=True)\n",
       "              (value): Linear(in_features=768, out_features=768, bias=True)\n",
       "              (dropout): Dropout(p=0.1, inplace=False)\n",
       "            )\n",
       "            (output): BertSelfOutput(\n",
       "              (dense): Linear(in_features=768, out_features=768, bias=True)\n",
       "              (LayerNorm): BertLayerNorm()\n",
       "              (dropout): Dropout(p=0.1, inplace=False)\n",
       "            )\n",
       "          )\n",
       "          (intermediate): BertIntermediate(\n",
       "            (dense): Linear(in_features=768, out_features=3072, bias=True)\n",
       "          )\n",
       "          (output): BertOutput(\n",
       "            (dense): Linear(in_features=3072, out_features=768, bias=True)\n",
       "            (LayerNorm): BertLayerNorm()\n",
       "            (dropout): Dropout(p=0.1, inplace=False)\n",
       "          )\n",
       "        )\n",
       "        (8): BertLayer(\n",
       "          (attention): BertAttention(\n",
       "            (self): BertSelfAttention(\n",
       "              (query): Linear(in_features=768, out_features=768, bias=True)\n",
       "              (key): Linear(in_features=768, out_features=768, bias=True)\n",
       "              (value): Linear(in_features=768, out_features=768, bias=True)\n",
       "              (dropout): Dropout(p=0.1, inplace=False)\n",
       "            )\n",
       "            (output): BertSelfOutput(\n",
       "              (dense): Linear(in_features=768, out_features=768, bias=True)\n",
       "              (LayerNorm): BertLayerNorm()\n",
       "              (dropout): Dropout(p=0.1, inplace=False)\n",
       "            )\n",
       "          )\n",
       "          (intermediate): BertIntermediate(\n",
       "            (dense): Linear(in_features=768, out_features=3072, bias=True)\n",
       "          )\n",
       "          (output): BertOutput(\n",
       "            (dense): Linear(in_features=3072, out_features=768, bias=True)\n",
       "            (LayerNorm): BertLayerNorm()\n",
       "            (dropout): Dropout(p=0.1, inplace=False)\n",
       "          )\n",
       "        )\n",
       "        (9): BertLayer(\n",
       "          (attention): BertAttention(\n",
       "            (self): BertSelfAttention(\n",
       "              (query): Linear(in_features=768, out_features=768, bias=True)\n",
       "              (key): Linear(in_features=768, out_features=768, bias=True)\n",
       "              (value): Linear(in_features=768, out_features=768, bias=True)\n",
       "              (dropout): Dropout(p=0.1, inplace=False)\n",
       "            )\n",
       "            (output): BertSelfOutput(\n",
       "              (dense): Linear(in_features=768, out_features=768, bias=True)\n",
       "              (LayerNorm): BertLayerNorm()\n",
       "              (dropout): Dropout(p=0.1, inplace=False)\n",
       "            )\n",
       "          )\n",
       "          (intermediate): BertIntermediate(\n",
       "            (dense): Linear(in_features=768, out_features=3072, bias=True)\n",
       "          )\n",
       "          (output): BertOutput(\n",
       "            (dense): Linear(in_features=3072, out_features=768, bias=True)\n",
       "            (LayerNorm): BertLayerNorm()\n",
       "            (dropout): Dropout(p=0.1, inplace=False)\n",
       "          )\n",
       "        )\n",
       "        (10): BertLayer(\n",
       "          (attention): BertAttention(\n",
       "            (self): BertSelfAttention(\n",
       "              (query): Linear(in_features=768, out_features=768, bias=True)\n",
       "              (key): Linear(in_features=768, out_features=768, bias=True)\n",
       "              (value): Linear(in_features=768, out_features=768, bias=True)\n",
       "              (dropout): Dropout(p=0.1, inplace=False)\n",
       "            )\n",
       "            (output): BertSelfOutput(\n",
       "              (dense): Linear(in_features=768, out_features=768, bias=True)\n",
       "              (LayerNorm): BertLayerNorm()\n",
       "              (dropout): Dropout(p=0.1, inplace=False)\n",
       "            )\n",
       "          )\n",
       "          (intermediate): BertIntermediate(\n",
       "            (dense): Linear(in_features=768, out_features=3072, bias=True)\n",
       "          )\n",
       "          (output): BertOutput(\n",
       "            (dense): Linear(in_features=3072, out_features=768, bias=True)\n",
       "            (LayerNorm): BertLayerNorm()\n",
       "            (dropout): Dropout(p=0.1, inplace=False)\n",
       "          )\n",
       "        )\n",
       "        (11): BertLayer(\n",
       "          (attention): BertAttention(\n",
       "            (self): BertSelfAttention(\n",
       "              (query): Linear(in_features=768, out_features=768, bias=True)\n",
       "              (key): Linear(in_features=768, out_features=768, bias=True)\n",
       "              (value): Linear(in_features=768, out_features=768, bias=True)\n",
       "              (dropout): Dropout(p=0.1, inplace=False)\n",
       "            )\n",
       "            (output): BertSelfOutput(\n",
       "              (dense): Linear(in_features=768, out_features=768, bias=True)\n",
       "              (LayerNorm): BertLayerNorm()\n",
       "              (dropout): Dropout(p=0.1, inplace=False)\n",
       "            )\n",
       "          )\n",
       "          (intermediate): BertIntermediate(\n",
       "            (dense): Linear(in_features=768, out_features=3072, bias=True)\n",
       "          )\n",
       "          (output): BertOutput(\n",
       "            (dense): Linear(in_features=3072, out_features=768, bias=True)\n",
       "            (LayerNorm): BertLayerNorm()\n",
       "            (dropout): Dropout(p=0.1, inplace=False)\n",
       "          )\n",
       "        )\n",
       "      )\n",
       "    )\n",
       "    (pooler): BertPooler(\n",
       "      (dense): Linear(in_features=768, out_features=768, bias=True)\n",
       "      (activation): Tanh()\n",
       "    )\n",
       "  )\n",
       "  (fc_in): Linear(in_features=6, out_features=6, bias=True)\n",
       "  (fc_1): Linear(in_features=774, out_features=300, bias=True)\n",
       "  (fc_out): Linear(in_features=300, out_features=1, bias=True)\n",
       ")"
      ]
     },
     "execution_count": 82,
     "metadata": {},
     "output_type": "execute_result"
    }
   ],
   "source": [
    "# load pretrained bert\n",
    "# as class itself doesn't call pretrained-bert, \n",
    "# in future it may inherit fine-tuned bert\n",
    "# so step below may be skipped\n",
    "pretrained_bert, vocab = get_pytorch_kobert_model() \n",
    "bottleneck_size = 300\n",
    "\n",
    "num_of_numeric_features = train_numeric.shape[1]\n",
    "bert_reg = BertRegressor(pretrained_bert, num_of_numeric_features, bottleneck_size)\n",
    "bert_reg.to(device)\n",
    "optimizer = torch.optim.Adam(bert_reg.parameters(), lr=3e-6)\n",
    "bert_reg.train()"
   ]
  },
  {
   "cell_type": "code",
   "execution_count": 83,
   "metadata": {},
   "outputs": [],
   "source": [
    "bert_reg.eval()\n",
    "x_text = torch.tensor(train_contents_tokens_ids[:3]).long().to(device)\n",
    "x_numeric = torch.tensor(train_numeric[:3]).float().to(device)\n",
    "y = bert_reg(x_text, x_numeric)\n",
    "\n",
    "y_true = train_labels[:3]"
   ]
  },
  {
   "cell_type": "code",
   "execution_count": 84,
   "metadata": {},
   "outputs": [
    {
     "data": {
      "text/plain": [
       "['[CLS] 이젠 호모쉐퀴들도 부역자 노릇을 하는구나 군대도 안다녀온 게이새끼 허위사실유포로 감옥에 쳐넣어라. 아 감옥에는 호모새끼들이 은근히 많아서 벌이 아니라 상일려나? 군인권센터 저사람부터가 친민주당계열사람이자나  문제는 주사파 빨갱이척결이 먼저다~~! pakh**** 저 게이새끼부터 군대 잡아쳐넣어라. 군대도 안갔다온 놈이 군인권세터..? 삶은 소대가리도 웃는다. 계엄문건..? GR염병들하고 있네. 모든 작전문서는 2년마다 상횡이 바에 따라 엎데이트를 한다. 실무자가 엎데이트 초안을 작성한거가지고 내란음모라고 떠드는 군대도 안갔다온 새끼를 잡아쳐넣어야 한다.제발 무식하면 전문가에게 물어봐라. 6027작계 개편하면 전쟁선동 준비하는거냐? 문재앙아 대답좀 해봐라. 어디가서 특전사 나왔다고 해척조훈련(스쿠바훈련) 받았다고 뻥치지마라. 이 형님같은 특전사출신들이 개웃는다.[SEP]',\n",
       " '[CLS] 자료는 공개되었네요못보신 분들은 확인하세요 링크 컨콜은 아래에서 신청 후 참여 가능합니다 링크[SEP]',\n",
       " '[CLS] ᄏᄏ[SEP]']"
      ]
     },
     "execution_count": 84,
     "metadata": {},
     "output_type": "execute_result"
    }
   ],
   "source": [
    "# decoded x_text\n",
    "recon = list(map(lambda t: t.cpu().numpy().tolist(), x_text))\n",
    "recon = list(map(lambda t: [x for x in t if x != 0], recon))\n",
    "recon = list(map(vocab.to_tokens, recon))\n",
    "recon = list(map(sp.decode_pieces, recon))\n",
    "recon"
   ]
  },
  {
   "cell_type": "code",
   "execution_count": 85,
   "metadata": {},
   "outputs": [
    {
     "name": "stdout",
     "output_type": "stream",
     "text": [
      "[[ 50900.  51000. 580976.    192.      6.      4.]\n",
      " [ 50900.  51000. 580976.    544.      0.      0.]\n",
      " [ 51100.  51100.  13198.    135.      0.      0.]]\n"
     ]
    }
   ],
   "source": [
    "# numeric values\n",
    "np.set_printoptions(suppress=True) \n",
    "print(x_numeric.cpu().numpy())"
   ]
  },
  {
   "cell_type": "code",
   "execution_count": 86,
   "metadata": {},
   "outputs": [
    {
     "data": {
      "text/plain": [
       "tensor([[  0.0000],\n",
       "        [  0.0000],\n",
       "        [157.0676]], device='cuda:0', grad_fn=<ReluBackward0>)"
      ]
     },
     "execution_count": 86,
     "metadata": {},
     "output_type": "execute_result"
    }
   ],
   "source": [
    "# predicted value\n",
    "y"
   ]
  },
  {
   "cell_type": "code",
   "execution_count": 87,
   "metadata": {},
   "outputs": [
    {
     "data": {
      "text/plain": [
       "0    51000\n",
       "1    51000\n",
       "3    51200\n",
       "Name: target, dtype: int64"
      ]
     },
     "execution_count": 87,
     "metadata": {},
     "output_type": "execute_result"
    }
   ],
   "source": [
    "# target value (real one)\n",
    "y_true"
   ]
  },
  {
   "cell_type": "markdown",
   "metadata": {},
   "source": [
    "# Training"
   ]
  },
  {
   "cell_type": "code",
   "execution_count": null,
   "metadata": {},
   "outputs": [],
   "source": []
  }
 ],
 "metadata": {
  "kernelspec": {
   "display_name": "Python 3",
   "language": "python",
   "name": "python3"
  },
  "language_info": {
   "codemirror_mode": {
    "name": "ipython",
    "version": 3
   },
   "file_extension": ".py",
   "mimetype": "text/x-python",
   "name": "python",
   "nbconvert_exporter": "python",
   "pygments_lexer": "ipython3",
   "version": "3.6.8"
  }
 },
 "nbformat": 4,
 "nbformat_minor": 4
}
