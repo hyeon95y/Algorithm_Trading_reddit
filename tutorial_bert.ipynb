{
 "cells": [
  {
   "cell_type": "code",
   "execution_count": 1,
   "metadata": {},
   "outputs": [],
   "source": [
    "%matplotlib inline\n",
    "%load_ext autoreload\n",
    "%autoreload 2"
   ]
  },
  {
   "cell_type": "markdown",
   "metadata": {},
   "source": [
    "## References\n",
    "\n",
    "- [Natural Language Understanding with Sequence to Sequence Models](https://towardsdatascience.com/natural-language-understanding-with-sequence-to-sequence-models-e87d41ad258b)\n",
    "- [BERT for dummies](https://towardsdatascience.com/bert-for-dummies-step-by-step-tutorial-fb90890ffe03)\n",
    "- [ATIS Dataset from MS CNTK](https://www.kaggle.com/siddhadev/atis-dataset-from-ms-cntk)"
   ]
  },
  {
   "cell_type": "code",
   "execution_count": 9,
   "metadata": {},
   "outputs": [],
   "source": [
    "import glob\n",
    "import itertools\n",
    "\n",
    "import pandas as pd\n",
    "import numpy as np\n",
    "\n",
    "import matplotlib.pyplot as plt\n",
    "import matplotlib.font_manager as font_manager\n",
    "font_dirs = ['/usr/share/fonts/truetype/nanum']\n",
    "font_files = font_manager.findSystemFonts(fontpaths=font_dirs)\n",
    "font_list = font_manager.createFontList(font_files)\n",
    "font_manager.fontManager.ttflist.extend(font_list)\n",
    "plt.rcParams['font.family'] = 'NanumGothic'"
   ]
  },
  {
   "cell_type": "code",
   "execution_count": 29,
   "metadata": {
    "collapsed": true,
    "jupyter": {
     "outputs_hidden": true
    }
   },
   "outputs": [
    {
     "name": "stdout",
     "output_type": "stream",
     "text": [
      "Done  loading:  data/ms-cntk-atis/atis.train.pkl\n",
      "      samples: 4978\n",
      "   vocab_size:  943\n",
      "   slot count:  129\n",
      " intent count:   26\n",
      "Query text: BOS give me the flights from phoenix to milwaukee on wednesday EOS\n",
      "Query vector:  [178 449 581 827 429 444 681 851 595 654 908 179]\n",
      "Intent label:  flight\n",
      "Slot text:  O O O O O O B-fromloc.city_name O B-toloc.city_name O B-depart_date.day_name O\n",
      "Slot vector:  [128, 128, 128, 128, 128, 128, 48, 128, 78, 128, 26, 128]\n",
      "**************************************************************************\n",
      "Query text: BOS i would like a flight as early as possible in the day leaving from boston and to denver EOS\n",
      "Query vector:  [178 479 932 545 180 428 239 388 239 690 482 827 342 539 444 266 215 851\n",
      " 351 179]\n",
      "Intent label:  flight\n",
      "Slot text:  O O O O O O O B-flight_mod O O O O O O O B-fromloc.city_name O O B-toloc.city_name O\n",
      "Slot vector:  [128, 128, 128, 128, 128, 128, 128, 42, 128, 128, 128, 128, 128, 128, 128, 48, 128, 128, 78, 128]\n",
      "**************************************************************************\n",
      "Query text: BOS what is the cheapest fare between denver and boston EOS\n",
      "Query vector:  [178 916 498 827 296 414 259 351 215 266 179]\n",
      "Intent label:  airfare\n",
      "Slot text:  O O O O B-cost_relative O O B-fromloc.city_name O B-toloc.city_name O\n",
      "Slot vector:  [128, 128, 128, 128, 21, 128, 128, 48, 128, 78, 128]\n",
      "**************************************************************************\n",
      "Query text: BOS show me all flights from denver to san francisco EOS\n",
      "Query vector:  [178 770 581 207 429 444 351 851 739 440 179]\n",
      "Intent label:  flight\n",
      "Slot text:  O O O O O O B-fromloc.city_name O B-toloc.city_name I-toloc.city_name O\n",
      "Slot vector:  [128, 128, 128, 128, 128, 128, 48, 128, 78, 125, 128]\n",
      "**************************************************************************\n",
      "Query text: BOS okay and can you tell me for flights departing from dallas to philadelphia the latest flight you would have departing from dallas to philadelphia EOS\n",
      "Query vector:  [178 653 215 282 938 818 581 435 429 353 444 339 851 678 827 532 428 938\n",
      " 932 463 353 444 339 851 678 179]\n",
      "Intent label:  flight\n",
      "Slot text:  O O O O O O O O O O O B-fromloc.city_name O B-toloc.city_name O B-flight_mod O O O O O O B-fromloc.city_name O B-toloc.city_name O\n",
      "Slot vector:  [128, 128, 128, 128, 128, 128, 128, 128, 128, 128, 128, 48, 128, 78, 128, 42, 128, 128, 128, 128, 128, 128, 48, 128, 78, 128]\n",
      "**************************************************************************\n",
      "Done  loading:  data/ms-cntk-atis/atis.test.pkl\n",
      "      samples:  893\n",
      "   vocab_size:  943\n",
      "   slot count:  129\n",
      " intent count:   26\n",
      "Query text: BOS i need a flight from new york to los angeles on saturday evening on us air EOS\n",
      "Query vector:  [178 479 617 180 428 444 619 937 851 563 216 654 740 402 654 889 195 179]\n",
      "Intent label:  flight\n",
      "Slot text:  O O O O O O B-fromloc.city_name I-fromloc.city_name O B-toloc.city_name I-toloc.city_name O B-depart_date.day_name B-depart_time.period_of_day O B-airline_name I-airline_name O\n",
      "Slot vector:  [128, 128, 128, 128, 128, 128, 48, 110, 128, 78, 125, 128, 26, 33, 128, 2, 83, 128]\n",
      "**************************************************************************\n",
      "Query text: BOS list flights from washington dc to pittsburgh leaving after 1800 EOS\n",
      "Query vector:  [178 549 429 444 905 344 851 682 539 190  57 179]\n",
      "Intent label:  flight\n",
      "Slot text:  O O O O B-fromloc.city_name B-fromloc.state_code O B-toloc.city_name O B-depart_time.time_relative B-depart_time.time O\n",
      "Slot vector:  [128, 128, 128, 128, 48, 49, 128, 78, 128, 36, 35, 128]\n",
      "**************************************************************************\n",
      "Query text: BOS now show me all round trip flights from burbank to seattle that arrive before 7 pm in seattle EOS\n",
      "Query vector:  [178 637 770 581 207 730 870 429 444 272 851 752 826 236 253 139 689 482\n",
      " 752 179]\n",
      "Intent label:  flight\n",
      "Slot text:  O O O O O B-round_trip I-round_trip O O B-fromloc.city_name O B-toloc.city_name O O B-arrive_time.time_relative B-arrive_time.time I-arrive_time.time O B-toloc.city_name O\n",
      "Slot vector:  [128, 128, 128, 128, 128, 66, 119, 128, 128, 48, 128, 78, 128, 128, 15, 14, 89, 128, 78, 128]\n",
      "**************************************************************************\n",
      "Query text: BOS please list all flights from nashville to memphis on monday morning EOS\n",
      "Query vector:  [178 688 549 207 429 444 614 851 587 654 601 606 179]\n",
      "Intent label:  flight\n",
      "Slot text:  O O O O O O B-fromloc.city_name O B-toloc.city_name O B-depart_date.day_name B-depart_time.period_of_day O\n",
      "Slot vector:  [128, 128, 128, 128, 128, 128, 48, 128, 78, 128, 26, 33, 128]\n",
      "**************************************************************************\n",
      "Query text: BOS please list the flights from los angeles to charlotte EOS\n",
      "Query vector:  [178 688 549 827 429 444 563 216 851 294 179]\n",
      "Intent label:  flight\n",
      "Slot text:  O O O O O O B-fromloc.city_name I-fromloc.city_name O B-toloc.city_name O\n",
      "Slot vector:  [128, 128, 128, 128, 128, 128, 48, 110, 128, 78, 128]\n",
      "**************************************************************************\n"
     ]
    }
   ],
   "source": [
    "from tutorial_bert_func import load_ds, load_atis\n",
    "\n",
    "# load ATIS training dataset\n",
    "t2i_train, s2i_train, in2i_train, i2t_train, i2s_train, i2in_train, input_tensor_train, target_tensor_train, query_data_train, intent_data_train, intent_data_label_train, slot_data_train = load_atis('atis.train.pkl')\n",
    "data_train = [t2i_train, s2i_train, in2i_train, i2t_train, i2s_train, i2in_train, input_tensor_train, target_tensor_train, query_data_train, intent_data_train, intent_data_label_train, slot_data_train]\n",
    "var_train = ['t2i_train', 's2i_train', 'in2i_train', 'i2t_train', 'i2s_train', 'i2in_train', 'input_tensor_train', 'target_tensor_train', 'query_data_train', 'intent_data_train', 'intent_data_label_train', 'slot_data_train']\n",
    "\n",
    "# load ATIS testing dataset\n",
    "t2i_test, s2i_test, in2i_test, i2t_test, i2s_test, i2in_test, input_tensor_test, target_tensor_test, query_data_test, intent_data_test, intent_data_label_test, slot_data_test = load_atis('atis.test.pkl')"
   ]
  },
  {
   "cell_type": "code",
   "execution_count": 32,
   "metadata": {},
   "outputs": [
    {
     "name": "stdout",
     "output_type": "stream",
     "text": [
      "\n",
      "t2i_train\n",
      "{\"'d\": 0, \"'hare\": 1}\n",
      "\n",
      "s2i_train\n",
      "{'B-aircraft_code': 0, 'B-airline_code': 1}\n",
      "\n",
      "in2i_train\n",
      "{'abbreviation': 0, 'aircraft': 1}\n",
      "\n",
      "i2t_train\n",
      "{0: \"'d\", 1: \"'hare\"}\n",
      "\n",
      "i2s_train\n",
      "{0: 'B-aircraft_code', 1: 'B-airline_code'}\n",
      "\n",
      "i2in_train\n",
      "{0: 'abbreviation', 1: 'aircraft'}\n",
      "\n",
      "input_tensor_train\n",
      "[array([178, 479, 902, 851, 431, 444, 266, 240, 168, 210, 215, 236, 482,\n",
      "       351, 240,  27, 482, 827, 606, 179]), array([178, 916, 429, 228, 244, 444, 682, 851, 247, 654, 845, 606, 179])]\n",
      "\n",
      "target_tensor_train\n",
      "[[128, 128, 128, 128, 128, 128, 48, 128, 35, 100, 128, 128, 128, 78, 128, 14, 128, 128, 12, 128], [128, 128, 128, 128, 128, 128, 48, 128, 78, 128, 26, 33, 128]]\n",
      "\n",
      "query_data_train\n",
      "[' i want to fly from boston at 838 am and arrive in denver at 1110 in the morning '\n",
      " ' what flights are available from pittsburgh to baltimore on thursday morning ']\n",
      "\n",
      "intent_data_train\n",
      "['flight' 'flight']\n",
      "\n",
      "intent_data_label_train\n",
      "[14 14]\n",
      "\n",
      "slot_data_train\n",
      "[' O O O O O B-fromloc.city_name O B-depart_time.time I-depart_time.time O O O B-toloc.city_name O B-arrive_time.time O O B-arrive_time.period_of_day '\n",
      " ' O O O O O B-fromloc.city_name O B-toloc.city_name O B-depart_date.day_name B-depart_time.period_of_day ']\n"
     ]
    }
   ],
   "source": [
    "import inspect\n",
    "\n",
    "def retrieve_name(var):\n",
    "    callers_local_vars = inspect.currentframe().f_back.f_locals.items()\n",
    "    return [var_name for var_name, var_val in callers_local_vars if var_val is var]\n",
    "\n",
    "\n",
    "def check_data(var_list, variable_list) : \n",
    "    for var_name, variable in zip(var_list, variable_list) :\n",
    "        print('\\n%s'%var_name)\n",
    "\n",
    "        if isinstance(variable, dict) : \n",
    "        \n",
    "            print(dict(itertools.islice(variable.items(), 2)))\n",
    "        elif isinstance(variable, list) : \n",
    "            print(variable[0:2])\n",
    "        elif isinstance(variable, np.ndarray) : \n",
    "            print(variable[0:2])\n",
    "        else :\n",
    "            print('Unseen Type')\n",
    "    return\n",
    "check_data(var_train, data_train)"
   ]
  },
  {
   "cell_type": "code",
   "execution_count": null,
   "metadata": {},
   "outputs": [],
   "source": []
  }
 ],
 "metadata": {
  "kernelspec": {
   "display_name": "Python 3",
   "language": "python",
   "name": "python3"
  },
  "language_info": {
   "codemirror_mode": {
    "name": "ipython",
    "version": 3
   },
   "file_extension": ".py",
   "mimetype": "text/x-python",
   "name": "python",
   "nbconvert_exporter": "python",
   "pygments_lexer": "ipython3",
   "version": "3.6.8"
  }
 },
 "nbformat": 4,
 "nbformat_minor": 4
}
